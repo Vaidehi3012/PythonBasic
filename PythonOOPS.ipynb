{
  "nbformat": 4,
  "nbformat_minor": 0,
  "metadata": {
    "colab": {
      "provenance": []
    },
    "kernelspec": {
      "name": "python3",
      "display_name": "Python 3"
    },
    "language_info": {
      "name": "python"
    }
  },
  "cells": [
    {
      "cell_type": "markdown",
      "source": [
        "#OOPS"
      ],
      "metadata": {
        "id": "3N20zRJihPqh"
      }
    },
    {
      "cell_type": "markdown",
      "source": [
        "1. What is Object-Oriented Programming (OOP)?\n",
        "  - Object-Oriented Programming (OOP) is a programming paradigm based on the concept of \"objects\", which can contain data (in the form of attributes or\n",
        "  fields) and code (in the form of methods or functions).\n",
        "  - It allows programmers to structure and organize software in a way that models real-world entities, making complex software easier to understand, develop, and maintain.\n",
        "2. What is a class in OOP?\n",
        "  - A class is a blueprint or template for creating objects in OOP.\n",
        "  - It defines attributes (data/properties) and methods (functions/behaviors) that its objects will have.\n",
        "3. What is an object in OOP?\n",
        "  - An object is an instance of a class.\n",
        "  - It is a real-world entity that contains both data (attributes) and behavior (methods) defined by its class.\n",
        "4. What is the difference between abstraction and encapsulation?\n",
        "  - Abstraction : Abstraction is the process of hiding the internal implementation details of an object and only showing the essential features to the outside world.\n",
        "  - Encapsulation : Encapsulation is the process of bundling data and methods that operate on that data into a single unit (i.e., a class) and restricting direct access to some of the object's components.\n",
        "5. What are dunder methods in Python?\n",
        "  - Dunder methods (also called magic methods or special methods) are built-in methods in Python that have double underscores (__) at the beginning and end of their names.\n",
        "  - Dunder stands for Double Underscore.\n",
        "6.  Explain the concept of inheritance in OOP.\n",
        "  - Inheritance is a fundamental concept in OOP that allows a class (called a child or subclass) to inherit properties and behaviors (attributes and methods) from another class (called a parent or superclass).\n",
        "7. What is polymorphism in OOP?\n",
        "  - Polymorphism is a core concept in OOP that allows objects of different classes to be treated as objects of a common superclass.\n",
        "  - It enables the same method or operator to behave differently based on the object that is calling it.\n",
        "8.  How is encapsulation achieved in Python?\n",
        "  - Encapsulation in Python is achieved by restricting access to the data (attributes) and methods inside a class.\n",
        "  - This helps protect the internal state of an object from direct modification and enforces controlled access using getter and setter methods.\n",
        "9. What is a constructor in Python?\n",
        "  - A constructor in Python is a special method used to initialize objects of a class.\n",
        "  - It is automatically called when a new object is created.\n",
        "10. What are class and static methods in Python?\n",
        "  - ClassMethod : A class method is a method that is bound to the class, not to the object of the class.\n",
        "  - It can access and modify class-level data, but not instance-level data.\n",
        "  - StaticMethod : A static method is a method that belongs to the class but does not access or modify class or instance data.\n",
        "  - It behaves like a regular function, but is logically related to the class.\n",
        "11. What is method overloading in Python?\n",
        "  - Method overloading is a feature in object-oriented programming where multiple methods in the same class have the same name but different parameters (number or type).\n",
        "  - It allows a class to perform different tasks using the same method name, depending on the arguments passed.\n",
        "12. What is method overriding in OOP?\n",
        "  - Method overriding is an OOP feature that allows a subclass (child class) to provide a specific implementation of a method that is already defined in its superclass (parent class).\n",
        "  - The method in the child class has the same name, same parameters, and same return type as the one in the parent class.\n",
        "13. What is a property decorator in Python?\n",
        "  - The @property decorator in Python is used to define a method as a property, allowing you to access it like an attribute rather than calling it like a method.\n",
        "14. Why is polymorphism important in OOP?\n",
        "  - Polymorphism (from Greek: poly = many, morph = forms) allows the same interface (method name or operator) to behave differently depending on the object it is applied to.\n",
        "  - This ability to define common behavior for multiple types is crucial in creating flexible, extensible, and reusable code.\n",
        "15. What is an abstract class in Python?\n",
        "  - An abstract class is a class that cannot be instantiated on its own and is designed to be inherited by other classes.\n",
        "  - It may contain one or more abstract methods—methods that are declared but do not have any implementation in the abstract class.\n",
        "16. What are the advantages of OOP?\n",
        "  - Object-Oriented Programming (OOP) is a programming paradigm based on the concept of “objects” — which contain data (attributes) and code (methods).\n",
        "  - It brings several key advantages that help build modular, scalable, and maintainable software.\n",
        "17. What is the difference between a class variable and an instance variable?\n",
        "  - Instance Variable : An instance variable is a variable that is associated with a specific object (instance) of a class. Each object has its own copy of the instance variables, which means their values can differ from one object to another.\n",
        "  - Class Variable : A class variable is a variable that is shared across all instances of a class. It is defined at the class level and belongs to the class itself, not to any one object.\n",
        "18. What is multiple inheritance in Python?\n",
        "  - Multiple inheritance is a feature in object-oriented programming where a class can inherit from more than one parent class.\n",
        "  - This means the child class gets access to the attributes and methods of all its parent classes.\n",
        "19. Explain the purpose of ‘’__str__’ and ‘__repr__’ ‘ methods in Python.\n",
        "  - In Python, both __str__() and __repr__() are special (dunder) methods used to define how an object should be represented as a string.\n",
        "  - __str__() – Human-readable String Representation. The __str__() method is meant to return a user-friendly and readable string representation of the object. It is used when you call print(object) or str(object).\n",
        "  - __repr__() – Official/Developer Representation. The __repr__() method is used to return a technical string representation of the object, usually for debugging or logging. It is used when you call repr(object) or inspect the object in the Python shell.\n",
        "20. What is the significance of the ‘super()’ function in Python?\n",
        "  - The super() function in Python is used to call a method from a parent (super) class.\n",
        "  - It allows you to access inherited methods that have been overridden in a child class.\n",
        "21. What is the significance of the __del__ method in Python?\n",
        "  - The __del__() method in Python is a special (dunder) method known as a destructor.\n",
        "  - It is called automatically when an object is about to be destroyed (deleted) — that is, when it goes out of scope or is explicitly deleted using del.\n",
        "22. What is the difference between @staticmethod and @classmethod in Python?\n",
        "  - @classmethod : A static method is a method that belongs to a class, but it does not take the class (cls) or instance (self) as its first argument.\n",
        "  - @staticmethod : A class method is a method that takes the class (cls) as its first argument instead of the instance.\n",
        "23. How does polymorphism work in Python with inheritance?\n",
        "  - Polymorphism in Python allows the same method name to have different behavior depending on the type of object calling it.\n",
        "  - When combined with inheritance, polymorphism enables subclasses to override methods of a parent class, and Python will dynamically call the correct method at runtime.\n",
        "24. What is method chaining in Python OOP?\n",
        "  - Method chaining is a programming technique in Object-Oriented Programming (OOP) where multiple methods are called on the same object in a single line, one after another.\n",
        "  - Each method returns the object itself (usually self), allowing the next method to be called on it.\n",
        "25. What is the purpose of the __call__ method in Python?\n",
        "  - The __call__() method in Python is a special method (dunder method) that allows an object to be called like a function.\n",
        "  - When defined in a class, calling an instance of that class executes the __call__() method automatically.\n",
        "\n"
      ],
      "metadata": {
        "id": "A4J4cKZvhWf-"
      }
    },
    {
      "cell_type": "code",
      "source": [
        "#Create a parent class Animal with a method speak() that prints a generic message. Create a child class Dog that overrides the speak() method to print \"Bark!\".\n",
        "class Animal:\n",
        "    def speak(self):\n",
        "        print(\"Generic Animal Sound\")\n",
        "\n",
        "class Dog(Animal):\n",
        "    def speak(self):\n",
        "        print(\"Bark!\")\n",
        "Dog().speak()"
      ],
      "metadata": {
        "colab": {
          "base_uri": "https://localhost:8080/"
        },
        "id": "pHSMh-J51AQB",
        "outputId": "746ddbfb-5124-4b46-f086-934f04d8dbac"
      },
      "execution_count": 1,
      "outputs": [
        {
          "output_type": "stream",
          "name": "stdout",
          "text": [
            "Bark!\n"
          ]
        }
      ]
    },
    {
      "cell_type": "code",
      "source": [
        "#Write a program to create an abstract class Shape with a method area(). Derive classes Circle and Rectangle from it and implement the area() method in both.\n",
        "from abc import ABC, abstractmethod\n",
        "class Shape(ABC):\n",
        "    @abstractmethod\n",
        "    def area(self):\n",
        "        pass\n",
        "class Circle(Shape):\n",
        "    def __init__(self, radius):\n",
        "        self.radius = radius\n",
        "    def area(self):\n",
        "        return 3.14 * self.radius * self.radius\n",
        "class Rectangle(Shape):\n",
        "    def __init__(self, length, width):\n",
        "        self.length = length\n",
        "        self.width = width\n",
        "    def area(self):\n",
        "        return self.length * self.width\n",
        "circle = Circle(5)\n",
        "rectangle = Rectangle(4, 6)\n",
        "print(\"Area of Circle:\", circle.area())\n",
        "print(\"Area of Rectangle:\", rectangle.area())"
      ],
      "metadata": {
        "colab": {
          "base_uri": "https://localhost:8080/"
        },
        "id": "y6oTtIvr1Abf",
        "outputId": "0269a78c-86c0-4d61-9838-09c045ac9f7c"
      },
      "execution_count": 3,
      "outputs": [
        {
          "output_type": "stream",
          "name": "stdout",
          "text": [
            "Area of Circle: 78.5\n",
            "Area of Rectangle: 24\n"
          ]
        }
      ]
    },
    {
      "cell_type": "code",
      "source": [
        "#Implement a multi-level inheritance scenario where a class Vehicle has an attribute type. Derive a class Car and further derive a class ElectricCar that adds a battery attribute.\n",
        "class Vehicle:\n",
        "    def __init__(self, brand):\n",
        "        self.brand = brand\n",
        "    def show_brand(self):\n",
        "      print(\"Brand:\", self.brand)\n",
        "class Car(Vehicle):\n",
        "    def __init__(self, brand, model):\n",
        "        super().__init__(brand)\n",
        "        self.model = model\n",
        "    def show_model(self):\n",
        "        print(\"Model:\", self.model)\n",
        "class ElectricCar(Car):\n",
        "    def __init__(self, brand, model, battery_capacity):\n",
        "        super().__init__(brand, model)\n",
        "        self.battery_capacity = battery_capacity\n",
        "    def show_battery(self):\n",
        "        print(\"Battery Capacity:\", self.battery_capacity, \"kWh\")\n",
        "ecar = ElectricCar(\"Tesla\", \"Model 3\", 75)\n",
        "ecar.show_brand()\n",
        "ecar.show_model()\n",
        "ecar.show_battery()"
      ],
      "metadata": {
        "colab": {
          "base_uri": "https://localhost:8080/"
        },
        "id": "PORB1Nfu1AmZ",
        "outputId": "ee2720ad-c158-4e4d-b9df-6c53e0c5ffbb"
      },
      "execution_count": 5,
      "outputs": [
        {
          "output_type": "stream",
          "name": "stdout",
          "text": [
            "Brand: Tesla\n",
            "Model: Model 3\n",
            "Battery Capacity: 75 kWh\n"
          ]
        }
      ]
    },
    {
      "cell_type": "code",
      "source": [
        "#Demonstrate polymorphism by creating a base class Bird with a method fly(). Create two derived classes Sparrow and Penguin that override the fly() method.\n",
        "class Bird:\n",
        "    def fly(self):\n",
        "        print(\"Birds can fly.\")\n",
        "class Sparrow(Bird):\n",
        "    def fly(self):\n",
        "        print(\"Sparrows can fly at high speeds.\")\n",
        "class Penguin(Bird):\n",
        "    def fly(self):\n",
        "        print(\"Penguins cannot fly.\")\n",
        "bird = Bird()\n",
        "sparrow = Sparrow()\n",
        "penguin = Penguin()\n",
        "bird.fly()\n",
        "sparrow.fly()\n",
        "penguin.fly()"
      ],
      "metadata": {
        "colab": {
          "base_uri": "https://localhost:8080/"
        },
        "id": "EWDlpAyR1Avk",
        "outputId": "b6dbf0bd-2f06-4e7a-d27a-a44378197ab0"
      },
      "execution_count": 6,
      "outputs": [
        {
          "output_type": "stream",
          "name": "stdout",
          "text": [
            "Birds can fly.\n",
            "Sparrows can fly at high speeds.\n",
            "Penguins cannot fly.\n"
          ]
        }
      ]
    },
    {
      "cell_type": "code",
      "source": [
        "#Write a program to demonstrate encapsulation by creating a class BankAccount with private attributes balance and methods to deposit, withdraw, and check balance.\n",
        "class BankAccount:\n",
        "    def __init__(self, balance):\n",
        "        self.__balance = balance\n",
        "    def deposit(self, amount):\n",
        "        self.__balance += amount\n",
        "    def withdraw(self, amount):\n",
        "        if amount <= self.__balance:\n",
        "            self.__balance -= amount\n",
        "        else:\n",
        "            print(\"Insufficient balance.\")\n",
        "    def check_balance(self):\n",
        "        return self.__balance\n",
        "account = BankAccount(1000)\n",
        "account.deposit(500)\n",
        "account.withdraw(200)\n",
        "print(\"Current Balance:\", account.check_balance())"
      ],
      "metadata": {
        "colab": {
          "base_uri": "https://localhost:8080/"
        },
        "id": "9cgOlrqi1A4t",
        "outputId": "65043b26-0414-48b4-868c-ea4a7322b9a1"
      },
      "execution_count": 8,
      "outputs": [
        {
          "output_type": "stream",
          "name": "stdout",
          "text": [
            "Current Balance: 1300\n"
          ]
        }
      ]
    },
    {
      "cell_type": "code",
      "source": [
        "# Demonstrate runtime polymorphism using a method play() in a base class Instrument. Derive classes Guitar and Piano that implement their own version of play().\n",
        "class Instrument:\n",
        "    def play(self):\n",
        "        print(\"Generic Instrument Sound\")\n",
        "class Guitar(Instrument):\n",
        "    def play(self):\n",
        "        print(\"Guitar plays a stringed instrument.\")\n",
        "class Piano(Instrument):\n",
        "    def play(self):\n",
        "        print(\"Piano plays a keyboard instrument.\")\n",
        "guitar = Guitar()\n",
        "piano = Piano()\n",
        "guitar.play()\n",
        "piano.play()"
      ],
      "metadata": {
        "colab": {
          "base_uri": "https://localhost:8080/"
        },
        "id": "qhxpgFii1BEX",
        "outputId": "ff0c7f72-c0f5-46e0-d259-7616afa90bc8"
      },
      "execution_count": 10,
      "outputs": [
        {
          "output_type": "stream",
          "name": "stdout",
          "text": [
            "Guitar plays a stringed instrument.\n",
            "Piano plays a keyboard instrument.\n"
          ]
        }
      ]
    },
    {
      "cell_type": "code",
      "source": [
        "#Create a class MathOperations with a class method add_numbers() to add two numbers and a static method subtract_numbers() to subtract two numbers.\n",
        "class MathOperations:\n",
        "    @classmethod\n",
        "    def add_numbers(cls, a, b):\n",
        "        return a + b\n",
        "    @staticmethod\n",
        "    def subtract_numbers(a, b):\n",
        "        return a - b\n",
        "print(\"Addition:\", MathOperations.add_numbers(5, 3))\n",
        "print(\"Subtraction:\", MathOperations.subtract_numbers(10, 4))"
      ],
      "metadata": {
        "colab": {
          "base_uri": "https://localhost:8080/"
        },
        "id": "K0DvHaYQ1BS8",
        "outputId": "bab2a413-187d-4501-f9ec-e32380ccb6a9"
      },
      "execution_count": 11,
      "outputs": [
        {
          "output_type": "stream",
          "name": "stdout",
          "text": [
            "Addition: 8\n",
            "Subtraction: 6\n"
          ]
        }
      ]
    },
    {
      "cell_type": "code",
      "source": [
        "#Implement a class Person with a class method to count the total number of persons created.\n",
        "class Person:\n",
        "    count = 0\n",
        "    def __init__(self):\n",
        "        Person.count += 1\n",
        "    @classmethod\n",
        "    def get_count(cls):\n",
        "        return cls.count\n",
        "person1 = Person()\n",
        "person2 = Person()\n",
        "print(\"Total Persons:\", Person.get_count())"
      ],
      "metadata": {
        "colab": {
          "base_uri": "https://localhost:8080/"
        },
        "id": "vXmFmuff1BmO",
        "outputId": "0d3d6539-e75f-47b0-b387-f4de8f30cc20"
      },
      "execution_count": 12,
      "outputs": [
        {
          "output_type": "stream",
          "name": "stdout",
          "text": [
            "Total Persons: 2\n"
          ]
        }
      ]
    },
    {
      "cell_type": "code",
      "source": [
        "#Write a class Fraction with attributes numerator and denominator. Override the str method to display the fraction as \"numerator/denominator\".\n",
        "class Fraction:\n",
        "    def __init__(self, numerator, denominator):\n",
        "        self.numerator = numerator\n",
        "        self.denominator = denominator\n",
        "    def __str__(self):\n",
        "        return f\"{self.numerator}/{self.denominator}\"\n",
        "fraction1 = Fraction(1, 2)\n",
        "fraction2 = Fraction(3, 4)\n",
        "print(\"Fraction 1:\", fraction1)\n",
        "print(\"Fraction 2:\", fraction2)"
      ],
      "metadata": {
        "colab": {
          "base_uri": "https://localhost:8080/"
        },
        "id": "6Xizt5sm1Byd",
        "outputId": "b074fe6d-f17e-48ab-f6f8-b9b3ff72585c"
      },
      "execution_count": 16,
      "outputs": [
        {
          "output_type": "stream",
          "name": "stdout",
          "text": [
            "Fraction 1: 1/2\n",
            "Fraction 2: 3/4\n"
          ]
        }
      ]
    },
    {
      "cell_type": "code",
      "source": [
        "#Demonstrate operator overloading by creating a class Vector and overriding the add method to add two vectors.\n",
        "class Vector:\n",
        "    def __init__(self, x, y):\n",
        "        self.x = x\n",
        "        self.y = y\n",
        "    def __add__(self, other):\n",
        "        return Vector(self.x + other.x, self.y + other.y)\n",
        "    def __str__(self):\n",
        "        return f\"Vector({self.x}, {self.y})\"\n",
        "v1 = Vector(2, 3)\n",
        "v2 = Vector(4, 5)\n",
        "result = v1 + v2\n",
        "print(\"Result of vector addition:\", result)"
      ],
      "metadata": {
        "colab": {
          "base_uri": "https://localhost:8080/"
        },
        "id": "OQRHxI6A1B9I",
        "outputId": "a04b7b95-0a7b-44ba-c016-57335753742e"
      },
      "execution_count": 17,
      "outputs": [
        {
          "output_type": "stream",
          "name": "stdout",
          "text": [
            "Result of vector addition: Vector(6, 8)\n"
          ]
        }
      ]
    },
    {
      "cell_type": "code",
      "source": [
        "#Create a class Person with attributes name and age. Add a method greet() that prints \"Hello, my name is {name} and I am {age} years old.\"\n",
        "class Person:\n",
        "    def __init__(self, name, age):\n",
        "        self.name = name\n",
        "        self.age = age\n",
        "    def greet(self):\n",
        "        print(f\"Hello, my name is {self.name} and I am {self.age} years old.\")\n",
        "person = Person(\"Vaidehi\", 21)\n",
        "person.greet()"
      ],
      "metadata": {
        "colab": {
          "base_uri": "https://localhost:8080/"
        },
        "id": "iFMxJ5SL1CIn",
        "outputId": "134f3225-9900-4175-d0eb-75c0c0caef58"
      },
      "execution_count": 19,
      "outputs": [
        {
          "output_type": "stream",
          "name": "stdout",
          "text": [
            "Hello, my name is Vaidehi and I am 21 years old.\n"
          ]
        }
      ]
    },
    {
      "cell_type": "code",
      "source": [
        "#Implement a class Student with attributes name and grades. Create a method average_grade() to compute the average of the grades.\n",
        "class Student:\n",
        "    def __init__(self, name, grades):\n",
        "        self.name = name\n",
        "        self.grades = grades\n",
        "    def average_grade(self):\n",
        "        return sum(self.grades) / len(self.grades)\n",
        "student = Student(\"Vaidehi\", [90, 85, 92, 88])\n",
        "print(f\"{student.name}'s Average Grade: {student.average_grade()}\")"
      ],
      "metadata": {
        "colab": {
          "base_uri": "https://localhost:8080/"
        },
        "id": "RNhRgtkf1CV3",
        "outputId": "29f2b3ff-5697-4d36-c102-35fd4fe771fd"
      },
      "execution_count": 21,
      "outputs": [
        {
          "output_type": "stream",
          "name": "stdout",
          "text": [
            "Vaidehi's Average Grade: 88.75\n"
          ]
        }
      ]
    },
    {
      "cell_type": "code",
      "source": [
        "#Create a class Rectangle with methods set_dimensions() to set the dimensions and area() to calculate the area.\n",
        "class Rectangle:\n",
        "    def set_dimensions(self, length, width):\n",
        "        self.length = length\n",
        "        self.width = width\n",
        "    def area(self):\n",
        "        return self.length * self.width\n",
        "rectangle = Rectangle()\n",
        "rectangle.set_dimensions(5, 3)\n",
        "print(\"Area of the rectangle:\", rectangle.area())"
      ],
      "metadata": {
        "colab": {
          "base_uri": "https://localhost:8080/"
        },
        "id": "37T6jnKp1Cip",
        "outputId": "7372f773-2a2b-410b-a2b1-34d5611414af"
      },
      "execution_count": 22,
      "outputs": [
        {
          "output_type": "stream",
          "name": "stdout",
          "text": [
            "Area of the rectangle: 15\n"
          ]
        }
      ]
    },
    {
      "cell_type": "code",
      "source": [
        "#Create a class Employee with a method calculate_salary() that computes the salary based on hours worked and hourly rate. Create a derived class Manager that adds a bonus to the salary.\n",
        "class Employee:\n",
        "    def __init__(self, name, hours_worked, hourly_rate):\n",
        "        self.name = name\n",
        "        self.hours_worked = hours_worked\n",
        "        self.hourly_rate = hourly_rate\n",
        "    def calculate_salary(self):\n",
        "        return self.hours_worked * self.hourly_rate\n",
        "class Manager(Employee):\n",
        "    def __init__(self, name, hours_worked, hourly_rate, bonus):\n",
        "        super().__init__(name, hours_worked, hourly_rate)\n",
        "        self.bonus = bonus\n",
        "    def calculate_salary(self):\n",
        "        base_salary = super().calculate_salary()\n",
        "        return base_salary + self.bonus\n",
        "emp = Employee(\"Alice\", 2000, 20)\n",
        "print(f\"{emp.name}'s Salary: Rs{emp.calculate_salary()}\")\n",
        "mgr = Manager(\"Bob\", 4000, 30, 500)\n",
        "print(f\"{mgr.name}'s Salary (with bonus): Rs{mgr.calculate_salary()}\")"
      ],
      "metadata": {
        "colab": {
          "base_uri": "https://localhost:8080/"
        },
        "id": "czwoaixL76nq",
        "outputId": "1d906efe-4f22-4ba0-a03f-70a9d6374b3d"
      },
      "execution_count": 34,
      "outputs": [
        {
          "output_type": "stream",
          "name": "stdout",
          "text": [
            "Alice's Salary: Rs40000\n",
            "Bob's Salary (with bonus): Rs120500\n"
          ]
        }
      ]
    },
    {
      "cell_type": "code",
      "source": [
        "#Create a class Product with attributes name, price, and quantity. Implement a method total_price() that calculates the total price of the product.\n",
        "class Product:\n",
        "    def __init__(self, name, price, quantity):\n",
        "        self.name = name\n",
        "        self.price = price\n",
        "        self.quantity = quantity\n",
        "    def total_price(self):\n",
        "        return self.price * self.quantity\n",
        "\n",
        "product = Product(\"Laptop\", 80000, 2)\n",
        "print(f\"Total Price of {product.quantity} {product.name}(s): Rs{product.total_price()}\")"
      ],
      "metadata": {
        "colab": {
          "base_uri": "https://localhost:8080/"
        },
        "id": "dxm_mplC76zY",
        "outputId": "db8ae24f-5ea3-44bd-d3c7-953be7b996ff"
      },
      "execution_count": 35,
      "outputs": [
        {
          "output_type": "stream",
          "name": "stdout",
          "text": [
            "Total Price of 2 Laptop(s): Rs160000\n"
          ]
        }
      ]
    },
    {
      "cell_type": "code",
      "source": [
        "#Create a class Animal with an abstract method sound(). Create two derived classes Cow and Sheep that implement the sound() method.\n",
        "from abc import ABC, abstractmethod\n",
        "class Animal(ABC):\n",
        "    @abstractmethod\n",
        "    def sound(self):\n",
        "        pass\n",
        "class Cow(Animal):\n",
        "    def sound(self):\n",
        "        print(\"Moo!\")\n",
        "class Sheep(Animal):\n",
        "    def sound(self):\n",
        "        print(\"Baa!\")\n",
        "cow = Cow()\n",
        "sheep = Sheep()\n",
        "cow.sound()\n",
        "sheep.sound()"
      ],
      "metadata": {
        "colab": {
          "base_uri": "https://localhost:8080/"
        },
        "id": "u-YeS9WP767t",
        "outputId": "f90b8b41-38cf-4361-9cb8-2f541d5e1959"
      },
      "execution_count": 37,
      "outputs": [
        {
          "output_type": "stream",
          "name": "stdout",
          "text": [
            "Moo!\n",
            "Baa!\n"
          ]
        }
      ]
    },
    {
      "cell_type": "code",
      "source": [
        "#Create a class Book with attributes title, author, and year_published. Add a method get_book_info() that returns a formatted string with the book's details.\n",
        "class Book:\n",
        "    def __init__(self, title, author, year_published):\n",
        "        self.title = title\n",
        "        self.author = author\n",
        "        self.year_published = year_published\n",
        "    def get_book_info(self):\n",
        "        return f\"'{self.title}' by {self.author} (Published in {self.year_published})\"\n",
        "book1 = Book(\"To Kill a Mockingbird\", \"Harper Lee\", 1960)\n",
        "book2 = Book(\"1984\", \"George Orwell\", 1949)\n",
        "print(book1.get_book_info())"
      ],
      "metadata": {
        "colab": {
          "base_uri": "https://localhost:8080/"
        },
        "id": "PEfhhrdh77F3",
        "outputId": "fba3d978-1208-4783-cf43-5e6f8712c833"
      },
      "execution_count": 39,
      "outputs": [
        {
          "output_type": "stream",
          "name": "stdout",
          "text": [
            "'To Kill a Mockingbird' by Harper Lee (Published in 1960)\n"
          ]
        }
      ]
    },
    {
      "cell_type": "code",
      "source": [
        "#Create a class House with attributes address and price. Create a derived class Mansion that adds an attribute number_of_rooms.\n",
        "class House:\n",
        "    def __init__(self, address, price):\n",
        "        self.address = address\n",
        "        self.price = price\n",
        "class Mansion(House):\n",
        "    def __init__(self, address, price, number_of_rooms):\n",
        "        super().__init__(address, price)\n",
        "        self.number_of_rooms = number_of_rooms\n",
        "mansion = Mansion(\"123 Main St\", 2500000, 8)\n",
        "print(f\"Address: {mansion.address}\")\n",
        "print(f\"Price: Rs{mansion.price}\")\n",
        "print(f\"Number of Rooms: {mansion.number_of_rooms}\")"
      ],
      "metadata": {
        "colab": {
          "base_uri": "https://localhost:8080/"
        },
        "id": "mGLpr4vC77Rm",
        "outputId": "55dce9fb-29b1-4fa0-98e5-b65440ca5bf6"
      },
      "execution_count": 43,
      "outputs": [
        {
          "output_type": "stream",
          "name": "stdout",
          "text": [
            "Address: 123 Main St\n",
            "Price: Rs2500000\n",
            "Number of Rooms: 8\n"
          ]
        }
      ]
    }
  ]
}