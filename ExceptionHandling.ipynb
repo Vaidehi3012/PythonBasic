{
  "nbformat": 4,
  "nbformat_minor": 0,
  "metadata": {
    "colab": {
      "provenance": []
    },
    "kernelspec": {
      "name": "python3",
      "display_name": "Python 3"
    },
    "language_info": {
      "name": "python"
    }
  },
  "cells": [
    {
      "cell_type": "markdown",
      "source": [
        "#Files, Exceptional Handling, Logging and Memory Management"
      ],
      "metadata": {
        "id": "RVNsOGeZX3ik"
      }
    },
    {
      "cell_type": "markdown",
      "source": [
        "1. What is the difference between interpreted and compiled languages?\n",
        "  - Interpreted: Executes line-by-line (e.g., Python).\n",
        "  - Compiled: Translates entire code into machine code before running (e.g., C++).\n",
        "  - Key Difference: Interpreted is slower but flexible; compiled is faster but rigid.\n",
        "2. What is exception handling in Python?\n",
        "  - Exception handling in python is a Mechanism to manage errors during execution using try, except, finally, etc., without crashing the program.\n",
        "3. What is the purpose of the finally block in exception handling?\n",
        "  - Always executes whether an exception occurs or not. Used for cleanup actions like closing files or releasing resources.\n",
        "4. What is logging in Python?\n",
        "  - Built-in module to track events that happen when the software runs. Useful for debugging, monitoring, and auditing.\n",
        "5. What is the significance of the __del__ method in Python?\n",
        "  - Destructor method, called when an object is about to be destroyed. Used to clean up resources (rarely needed in modern Python).\n",
        "6. What is the difference between import and from ... import in Python?\n",
        "  - import module: Imports the whole module.\n",
        "  - from module import x: Imports specific part (e.g., function or class).\n",
        "7. How can you handle multiple exceptions in Python?\n",
        "  - try:\n",
        "    #code\n",
        "  - except (TypeError, ValueError) as e:\n",
        "    print(e)\n",
        "  - You can also have multiple except blocks for different errors.\n",
        "8. What is the purpose of the with statement when handling files in Python?\n",
        "  - Automatically handles file opening and closing. Prevents file leaks.\n",
        "  - with open(\"file.txt\") as f:\n",
        "    data = f.read()\n",
        "9. What is the difference between multithreading and multiprocessing?\n",
        "  - Multithreading: Multithreading allows a program to run multiple threads (lightweight subprocesses) concurrently within the same process.\n",
        "  - All threads share the same memory space.\n",
        "  - Best for I/O-bound tasks (waiting for input/output, like reading files or network operations).\n",
        "  - Multiprocessing: Multiprocessing creates separate processes, each with its own Python interpreter and memory space.\n",
        "  - Good for CPU-bound tasks (tasks that require heavy computation).\n",
        "10. What are the advantages of using logging in a program?\n",
        "  - Using logging in a program has several key advantages, especially when compared to using simple print() statements.\n",
        "  - Logging helps developers track, debug, maintain, and monitor their applications in a structured and efficient way.\n",
        "11. What is memory management in Python?\n",
        "  - Memory management in Python is the process of allocating, tracking, and reclaiming memory during a program’s execution. Python handles this automatically through a combination of: Private Heap Space, Reference Counting, Garbage Collection (GC), Memory Pools (PyMalloc).\n",
        "12. What are the basic steps involved in exception handling in Python?\n",
        "  - Use try block for risky code.\n",
        "  - Use except block to catch exceptions.\n",
        "  - Optionally use else for code if no exception.\n",
        "  - Use finally to run cleanup code.\n",
        "13. Why is memory management important in Python?\n",
        "  - Memory management is crucial in Python because it ensures that programs run efficiently, reliably, and without consuming unnecessary system resources. It involves the proper allocation, usage, and release of memory used by variables, objects, and data structures during the execution of a program.\n",
        "  - Importance of Memory Management:\n",
        "  - Prevents memory leaks\n",
        "  - Improves efficiency\n",
        "  - Ensures smooth program execution\n",
        "14. What is the role of try and except in exception handling?\n",
        "  - try: Code that might cause an error.\n",
        "  - except: Code to handle the error.\n",
        "15. How does Python's garbage collection system work?\n",
        "  - Python’s garbage collection system is responsible for automatically reclaiming memory by deleting objects that are no longer in use. This helps keep memory usage low and prevents memory leaks, allowing developers to focus on writing logic rather than manual memory management.\n",
        "16. What is the purpose of the else block in exception handling?\n",
        "  - Executes if no exception occurs in the try block.\n",
        "  - try:\n",
        "    x = 5\n",
        "  - except:\n",
        "    print(\"Error\")\n",
        "  - else:\n",
        "    print(\"No error occurred\")\n",
        "17. What are the common logging levels in Python?\n",
        "  - DEBUG\n",
        "  - INFO\n",
        "  - WARNING\n",
        "  - ERROR\n",
        "  - CRITICAL\n",
        "18. What is the difference between os.fork() and multiprocessing in Python?\n",
        "  - os.fork()\n",
        "  - os.fork() is a low-level system call available only on Unix/Linux systems.\n",
        "  - It creates a child process by duplicating the current (parent) process.\n",
        "  - After forking, both parent and child processes run the same code independently.\n",
        "  - multiprocessing Module\n",
        "  - multiprocessing is a high-level, cross-platform module in Python.\n",
        "  - It provides a clean and structured way to create and manage separate processes.\n",
        "  - Supports shared memory, queues, pipes, pools, and synchronization primitives (like locks and semaphores).\n",
        "19. What is the importance of closing a file in Python?\n",
        "  - Releases system resources.\n",
        "  - Ensures all data is written/saved properly.\n",
        "20. What is the difference between file.read() and file.readline() in Python?\n",
        "  - file.read()\n",
        "  - Reads the entire file (or specified number of characters) as a single string.\n",
        "  - Useful when you want to process the whole content at once.\n",
        "  - file.readline()\n",
        "  - Reads the file one line at a time as a string (including \\n if present).\n",
        "  - Useful for processing files line by line, especially when files are large.\n",
        "21. What is the logging module in Python used for?\n",
        "  - The logging module in Python is used to record and track events that happen while a program is running. It provides a flexible framework for emitting log messages from Python programs and is a better alternative to using print() statements for debugging and monitoring.\n",
        "22. What is the os module in Python used for in file handling?\n",
        "  - The os module in Python provides a way to interact with the operating system, especially for tasks involving file and directory handling. It allows developers to perform file system operations such as creating, deleting, renaming, or navigating through files and folders.\n",
        "23. What are the challenges associated with memory management in Python?\n",
        "  - Circular references.\n",
        "  - Memory leaks via global variables.\n",
        "  - Inefficient use of large data structures.\n",
        "24. How do you raise an exception manually in Python?\n",
        "  - raise ValueError(\"Invalid input\")\n",
        "25. Why is it important to use multithreading in certain applications?\n",
        "  - Improves responsiveness (e.g., UI apps).\n",
        "  - Better performance for I/O-bound tasks (e.g., file or network operations).\n",
        "  - Enables concurrent execution.\n",
        "\n"
      ],
      "metadata": {
        "id": "TC8AgPUeYOT4"
      }
    },
    {
      "cell_type": "code",
      "source": [
        "#How can you open a file for writing in Python and write a string to it?\n",
        "with open(\"file.txt\", \"w\") as f:\n",
        "    f.write(\"Hello, World!\")"
      ],
      "metadata": {
        "id": "j22skjdGsGJz"
      },
      "execution_count": 2,
      "outputs": []
    },
    {
      "cell_type": "code",
      "source": [
        "#Write a Python program to read the contents of a file and print each line.\n",
        "with open(\"file.txt\", \"r\") as f:\n",
        "    for line in f:\n",
        "        print(line)"
      ],
      "metadata": {
        "colab": {
          "base_uri": "https://localhost:8080/"
        },
        "id": "KbUqljkPsGcG",
        "outputId": "ed840bd5-8389-4269-93bf-5db99338afb9"
      },
      "execution_count": 3,
      "outputs": [
        {
          "output_type": "stream",
          "name": "stdout",
          "text": [
            "Hello, World!\n"
          ]
        }
      ]
    },
    {
      "cell_type": "code",
      "source": [
        "#How would you handle a case where the file doesn't exist while trying to open it for reading?\n",
        "try:\n",
        "    with open(\"nonexistent_file.txt\", \"r\") as f:\n",
        "        data = f.read()\n",
        "except FileNotFoundError:\n",
        "    print(\"File not found.\")"
      ],
      "metadata": {
        "colab": {
          "base_uri": "https://localhost:8080/"
        },
        "id": "ym5ZsD19sGpI",
        "outputId": "fa66ec5e-5dcb-4c4a-d2a2-8014cc18c9ee"
      },
      "execution_count": 7,
      "outputs": [
        {
          "output_type": "stream",
          "name": "stdout",
          "text": [
            "File not found.\n"
          ]
        }
      ]
    },
    {
      "cell_type": "code",
      "source": [
        "#Write a Python script that reads from one file and writes its content to another file.\n",
        "with open(\"file.txt\", \"r\") as f, open(\"file2.txt\", \"w\") as f2:\n",
        "    f2.write(f.read())"
      ],
      "metadata": {
        "id": "tUUmA_VdsGwv"
      },
      "execution_count": 10,
      "outputs": []
    },
    {
      "cell_type": "code",
      "source": [
        "#How would you catch and handle division by zero error in Python.\n",
        "try:\n",
        "    result = 10 / 0\n",
        "except ZeroDivisionError:\n",
        "    print(\"Cannot divide by zero.\")"
      ],
      "metadata": {
        "colab": {
          "base_uri": "https://localhost:8080/"
        },
        "id": "mC3Gza89sGzV",
        "outputId": "840cbc84-3e1d-41a8-e905-5dff16a467dd"
      },
      "execution_count": 11,
      "outputs": [
        {
          "output_type": "stream",
          "name": "stdout",
          "text": [
            "Cannot divide by zero.\n"
          ]
        }
      ]
    },
    {
      "cell_type": "code",
      "source": [
        "#Write a Python program that logs an error message to a log file when a division by zero exception occurs.\n",
        "import logging\n",
        "\n",
        "logging.basicConfig(filename=\"error.log\", level=logging.ERROR)\n",
        "\n",
        "try:\n",
        "    result = 10 / 0\n",
        "except ZeroDivisionError:\n",
        "    logging.error(\"Division by zero error occurred.\")"
      ],
      "metadata": {
        "colab": {
          "base_uri": "https://localhost:8080/"
        },
        "id": "Ic_b2uO5sG1q",
        "outputId": "9780746e-f75d-40f3-c4ef-d32371f075ea"
      },
      "execution_count": 12,
      "outputs": [
        {
          "output_type": "stream",
          "name": "stderr",
          "text": [
            "ERROR:root:Division by zero error occurred.\n"
          ]
        }
      ]
    },
    {
      "cell_type": "code",
      "source": [
        "#How do you log information at different levels (INFO, ERROR, WARNING) in Python using the logging module.\n",
        "import logging\n",
        "\n",
        "logging.basicConfig(level=logging.INFO)\n",
        "logging.info(\"This is an info message.\")\n",
        "\n",
        "logging.warning(\"This is a warning message.\")\n",
        "\n",
        "logging.error(\"This is an error message.\")"
      ],
      "metadata": {
        "colab": {
          "base_uri": "https://localhost:8080/"
        },
        "id": "a5LWSOp5sG4E",
        "outputId": "c7216fdd-41a9-40b1-de25-e63e8c27f3cb"
      },
      "execution_count": 14,
      "outputs": [
        {
          "output_type": "stream",
          "name": "stderr",
          "text": [
            "WARNING:root:This is a warning message.\n",
            "ERROR:root:This is an error message.\n"
          ]
        }
      ]
    },
    {
      "cell_type": "code",
      "source": [
        "#Write a program to handle a file opening error using exception handling.\n",
        "try:\n",
        "    with open(\"nonexistent_file.txt\", \"r\") as f:\n",
        "        data = f.read()\n",
        "except FileNotFoundError:\n",
        "    print(\"File not found.\")"
      ],
      "metadata": {
        "colab": {
          "base_uri": "https://localhost:8080/"
        },
        "id": "JnhxBJLqsG6g",
        "outputId": "05a7d573-cae7-4871-8b1c-976aa5ba8dea"
      },
      "execution_count": 15,
      "outputs": [
        {
          "output_type": "stream",
          "name": "stdout",
          "text": [
            "File not found.\n"
          ]
        }
      ]
    },
    {
      "cell_type": "code",
      "source": [
        "#How can you read a file line by line and store its content in a list in Python?\n",
        "with open(\"file.txt\", \"r\") as f:\n",
        "    lines = f.readlines()\n",
        "    print(lines)"
      ],
      "metadata": {
        "colab": {
          "base_uri": "https://localhost:8080/"
        },
        "id": "hG2IR9VssG8-",
        "outputId": "a3ecf884-7ac5-4d61-b6a9-35a98bb6cf30"
      },
      "execution_count": 18,
      "outputs": [
        {
          "output_type": "stream",
          "name": "stdout",
          "text": [
            "['Hello, World!']\n"
          ]
        }
      ]
    },
    {
      "cell_type": "code",
      "source": [
        "#How can you append data to an existing file in Python?\n",
        "with open(\"file.txt\", \"a\") as f:\n",
        "    f.write(\"\\nAppended line.\")\n",
        "    print(\"Data appended to file.\")"
      ],
      "metadata": {
        "colab": {
          "base_uri": "https://localhost:8080/"
        },
        "id": "EVCjLz74sG_T",
        "outputId": "fc4dbff1-4344-4f93-e611-646487ab7262"
      },
      "execution_count": 21,
      "outputs": [
        {
          "output_type": "stream",
          "name": "stdout",
          "text": [
            "Data appended to file.\n"
          ]
        }
      ]
    },
    {
      "cell_type": "code",
      "source": [
        "#Write a Python program that uses a try-except block to handle an error when attempting to access a dictionary key that doesn't exist.\n",
        "my_dict = {\"a\": 1, \"b\": 2}\n",
        "\n",
        "try:\n",
        "    value = my_dict[\"c\"]\n",
        "except KeyError:\n",
        "    print(\"Key not found in dictionary.\")"
      ],
      "metadata": {
        "colab": {
          "base_uri": "https://localhost:8080/"
        },
        "id": "iOtoDPpOsHBw",
        "outputId": "ec33b27c-f503-4d5b-c989-fde803aac30d"
      },
      "execution_count": 22,
      "outputs": [
        {
          "output_type": "stream",
          "name": "stdout",
          "text": [
            "Key not found in dictionary.\n"
          ]
        }
      ]
    },
    {
      "cell_type": "code",
      "source": [
        "#Write a program that demonstrates using multiple except blocks to handle different types of exceptions.\n",
        "try:\n",
        "    result = 10 / 0\n",
        "except ZeroDivisionError:\n",
        "    print(\"Cannot divide by zero.\")\n",
        "except TypeError:\n",
        "    print(\"Invalid data type.\")"
      ],
      "metadata": {
        "colab": {
          "base_uri": "https://localhost:8080/"
        },
        "id": "_9ar9I9gsHEX",
        "outputId": "8536ecdd-3ff7-4b76-9a18-115065415e79"
      },
      "execution_count": 24,
      "outputs": [
        {
          "output_type": "stream",
          "name": "stdout",
          "text": [
            "Cannot divide by zero.\n"
          ]
        }
      ]
    },
    {
      "cell_type": "code",
      "source": [
        "#How would you check if a file exists before attempting to read it in Python.\n",
        "import os\n",
        "\n",
        "if os.path.exists(\"file.txt\"):\n",
        "    with open(\"file.txt\", \"r\") as f:\n",
        "        data = f.read()\n",
        "        print(data)\n",
        "else:\n",
        "    print(\"File not found.\")"
      ],
      "metadata": {
        "colab": {
          "base_uri": "https://localhost:8080/"
        },
        "id": "BAjIh8XbsHGx",
        "outputId": "e86e4fef-9d85-4532-9d35-906c71768def"
      },
      "execution_count": 25,
      "outputs": [
        {
          "output_type": "stream",
          "name": "stdout",
          "text": [
            "Hello, World!\n",
            "Appended line.\n",
            "Appended line.\n",
            "Appended line.\n"
          ]
        }
      ]
    },
    {
      "cell_type": "code",
      "source": [
        "#Write a program that uses the logging module to log both informational and error messages.\n",
        "import logging\n",
        "\n",
        "logging.basicConfig(level=logging.INFO)\n",
        "logging.info(\"This is an info message.\")\n",
        "\n",
        "logging.error(\"This is an error message.\")"
      ],
      "metadata": {
        "colab": {
          "base_uri": "https://localhost:8080/"
        },
        "id": "xlMJE8aFsHJZ",
        "outputId": "f5817f13-21f1-4918-f10e-450a6269f67b"
      },
      "execution_count": 26,
      "outputs": [
        {
          "output_type": "stream",
          "name": "stderr",
          "text": [
            "ERROR:root:This is an error message.\n"
          ]
        }
      ]
    },
    {
      "cell_type": "code",
      "source": [
        "#Write a Python program that prints the content of a file and handles the case when the file is empty.\n",
        "try:\n",
        "    with open(\"file.txt\", \"r\") as f:\n",
        "        data = f.read()\n",
        "        if data:\n",
        "            print(data)\n",
        "        else:\n",
        "            print(\"File is empty.\")\n",
        "except FileNotFoundError:\n",
        "    print(\"File not found.\")"
      ],
      "metadata": {
        "colab": {
          "base_uri": "https://localhost:8080/"
        },
        "id": "5WyV4olasHL9",
        "outputId": "ec26b9c3-2511-4f5b-f36c-dc9cd2df75e4"
      },
      "execution_count": 28,
      "outputs": [
        {
          "output_type": "stream",
          "name": "stdout",
          "text": [
            "Hello, World!\n",
            "Appended line.\n",
            "Appended line.\n",
            "Appended line.\n"
          ]
        }
      ]
    },
    {
      "cell_type": "code",
      "source": [
        "#Demonstrate how to use memory profiling to check the memory usage of a small program.\n",
        "import memory_profiler\n",
        "\n",
        "@memory_profiler.profile\n",
        "def my_function():\n",
        "    # Code here\n",
        "    pass\n",
        "\n",
        "my_function()"
      ],
      "metadata": {
        "colab": {
          "base_uri": "https://localhost:8080/"
        },
        "id": "c-6F24Mz0CKR",
        "outputId": "a65a5187-1edf-492a-84e1-a716b5675cd6"
      },
      "execution_count": 68,
      "outputs": [
        {
          "output_type": "stream",
          "name": "stdout",
          "text": [
            "ERROR: Could not find file /tmp/ipython-input-2418396588.py\n"
          ]
        }
      ]
    },
    {
      "cell_type": "code",
      "source": [
        "#Write a Python program to create and write a list of numbers to a file, one number per line.\n",
        "numbers = [1, 2, 3, 4, 5]\n",
        "\n",
        "with open(\"numbers.txt\", \"w\") as f:\n",
        "    for num in numbers:\n",
        "        f.write(str(num) + \"\\n\")"
      ],
      "metadata": {
        "id": "7K2I5ufbsHRn"
      },
      "execution_count": 36,
      "outputs": []
    },
    {
      "cell_type": "code",
      "source": [
        "#How would you implement a basic logging setup that logs to a file with rotation after 1MB.\n",
        "import logging\n",
        "from logging.handlers import RotatingFileHandler\n",
        "\n",
        "handler = RotatingFileHandler(\n",
        "    \"app.log\",\n",
        "    maxBytes=1 * 1024 * 1024,  # 1MB\n",
        "    backupCount=5\n",
        ")\n",
        "formatter = logging.Formatter('%(asctime)s - %(levelname)s - %(message)s')\n",
        "handler.setFormatter(formatter)\n",
        "\n",
        "logger = logging.getLogger()\n",
        "logger.setLevel(logging.INFO)\n",
        "logger.addHandler(handler)\n",
        "\n",
        "for i in range(10):\n",
        "    logger.info(f\"This is log message number {i}\")"
      ],
      "metadata": {
        "colab": {
          "base_uri": "https://localhost:8080/"
        },
        "id": "57n7ZPJysHUx",
        "outputId": "a7e75cb1-ad56-4bc5-bdee-4d7a2c80d6ee"
      },
      "execution_count": 42,
      "outputs": [
        {
          "output_type": "stream",
          "name": "stderr",
          "text": [
            "INFO:root:This is log message number 0\n",
            "INFO:root:This is log message number 1\n",
            "INFO:root:This is log message number 2\n",
            "INFO:root:This is log message number 3\n",
            "INFO:root:This is log message number 4\n",
            "INFO:root:This is log message number 5\n",
            "INFO:root:This is log message number 6\n",
            "INFO:root:This is log message number 7\n",
            "INFO:root:This is log message number 8\n",
            "INFO:root:This is log message number 9\n"
          ]
        }
      ]
    },
    {
      "cell_type": "code",
      "source": [
        "#Write a program that handles both IndexError and KeyError using a try-except block.\n",
        "my_list = [1, 2, 3]\n",
        "my_dict = {\"a\": 1, \"b\": 2}\n",
        "\n",
        "try:\n",
        "    value = my_list[3]\n",
        "except IndexError:\n",
        "    print(\"Index out of range.\")\n",
        "except KeyError:\n",
        "    print(\"Key not found in dictionary.\")"
      ],
      "metadata": {
        "colab": {
          "base_uri": "https://localhost:8080/"
        },
        "id": "TL4fFtXUsHX1",
        "outputId": "794aadd2-fb66-4b88-9fab-5c52cc87492e"
      },
      "execution_count": 44,
      "outputs": [
        {
          "output_type": "stream",
          "name": "stdout",
          "text": [
            "Index out of range.\n"
          ]
        }
      ]
    },
    {
      "cell_type": "code",
      "source": [
        "#How would you open a file and read its contents using a context manager in Python.\n",
        "with open(\"file.txt\", \"r\") as f:\n",
        "    data = f.read()\n",
        "    print(data)"
      ],
      "metadata": {
        "colab": {
          "base_uri": "https://localhost:8080/"
        },
        "id": "hni0OCvOsHam",
        "outputId": "ef24161f-e963-4e3e-a40c-173f50d4eb8d"
      },
      "execution_count": 45,
      "outputs": [
        {
          "output_type": "stream",
          "name": "stdout",
          "text": [
            "Hello, World!\n",
            "Appended line.\n",
            "Appended line.\n",
            "Appended line.\n"
          ]
        }
      ]
    },
    {
      "cell_type": "code",
      "source": [
        "#Write a Python program that reads a file and prints the number of occurrences of a specific word.\n",
        "word_to_count = \"Hello\"\n",
        "\n",
        "with open(\"file.txt\", \"r\") as f:\n",
        "    data = f.read()\n",
        "    count = data.count(word_to_count)\n",
        "    print(f\"The word '{word_to_count}' appears {count} times in the file.\")"
      ],
      "metadata": {
        "colab": {
          "base_uri": "https://localhost:8080/"
        },
        "id": "YrWekUlJsHdK",
        "outputId": "4d3d3a26-2c15-4424-e8a0-9dcb69786c18"
      },
      "execution_count": 48,
      "outputs": [
        {
          "output_type": "stream",
          "name": "stdout",
          "text": [
            "The word 'Hello' appears 1 times in the file.\n"
          ]
        }
      ]
    },
    {
      "cell_type": "code",
      "source": [
        "#How can you check if a file is empty before attempting to read its contents?\n",
        "import os\n",
        "\n",
        "if os.path.getsize(\"file2.txt\") > 0:\n",
        "    with open(\"file2.txt\", \"r\") as f:\n",
        "        data = f.read()\n",
        "        print(data)\n",
        "else:\n",
        "    print(\"File is empty.\")"
      ],
      "metadata": {
        "colab": {
          "base_uri": "https://localhost:8080/"
        },
        "id": "tGzJcyjjsHft",
        "outputId": "a6fa5536-29c1-47a0-f549-1f85a8e28cd5"
      },
      "execution_count": 52,
      "outputs": [
        {
          "output_type": "stream",
          "name": "stdout",
          "text": [
            "Hello, World!\n"
          ]
        }
      ]
    },
    {
      "cell_type": "code",
      "source": [
        "#Write a Python program that writes to a log file when an error occurs during file handling.\n",
        "import logging\n",
        "\n",
        "logging.basicConfig(\n",
        "    filename='error_log.txt',\n",
        "    level=logging.ERROR,\n",
        "    format='%(asctime)s - %(levelname)s - %(message)s'\n",
        ")\n",
        "try:\n",
        "    with open(\"non_existent_file.txt\", \"r\") as file:\n",
        "        content = file.read()\n",
        "        print(content)\n",
        "except FileNotFoundError as e:\n",
        "    logging.error(f\"File not found error: {e}\")\n",
        "except Exception as e:\n",
        "    logging.error(f\"An unexpected error occurred: {e}\")\n"
      ],
      "metadata": {
        "colab": {
          "base_uri": "https://localhost:8080/"
        },
        "id": "EXmeliRdsHiP",
        "outputId": "e069517a-6c40-451c-8d99-89f651de35c4"
      },
      "execution_count": 56,
      "outputs": [
        {
          "output_type": "stream",
          "name": "stderr",
          "text": [
            "ERROR:root:File not found error: [Errno 2] No such file or directory: 'non_existent_file.txt'\n"
          ]
        }
      ]
    }
  ]
}