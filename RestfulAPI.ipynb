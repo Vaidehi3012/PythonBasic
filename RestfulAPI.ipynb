{
  "nbformat": 4,
  "nbformat_minor": 0,
  "metadata": {
    "colab": {
      "provenance": []
    },
    "kernelspec": {
      "name": "python3",
      "display_name": "Python 3"
    },
    "language_info": {
      "name": "python"
    }
  },
  "cells": [
    {
      "cell_type": "markdown",
      "source": [
        "#Restful API & Flask"
      ],
      "metadata": {
        "id": "68PtH-dyk2z0"
      }
    },
    {
      "cell_type": "markdown",
      "source": [
        "1. What is a RESTful API?\n",
        "  - A Restful API is an application interface that follows REST principles — Representational State Transfer.\n",
        "  - It uses HTTP methods (GET, POST, PUT, DELETE) to perform CRUD operations on resources, usually represented in JSON.\n",
        "  - It’s stateless and designed for scalability and simplicity.\n",
        "2. Explain the concept of API specification.\n",
        "  - An API specification is a blueprint that defines how an API should behave — including endpoints, request/response formats, parameters, and error codes.\n",
        "  - Examples: OpenAPI (Swagger).\n",
        "  - It ensures developers can integrate consistently without guessing.\n",
        "3. What is Flask, and why is it popular for building APIs?\n",
        "  - Flask is a lightweight Python web framework that’s simple, flexible, and minimal.\n",
        "  - It’s popular for APIs because it’s easy to set up, highly extensible (via plugins like Flask-RESTful), and doesn’t enforce strict structure — great for quick prototyping.\n",
        "4. What is routing in Flask?\n",
        "  - Routing maps a URL path to a specific function in Flask.\n",
        "  - When a user accesses a route, Flask calls the associated view function.\n",
        "  - Example: @app.route('/home') → home() function.\n",
        "5. How do you create a simple Flask application?\n",
        "  - from flask import Flask\n",
        "app = Flask(__name__)\n",
        "\n",
        "@app.route('/')\n",
        "def hello():\n",
        "    return \"Hello World!\"\n",
        "\n",
        "if __name__ == '__main__':\n",
        "    app.run()\n",
        "6. What are HTTP methods used in RESTful APIs?\n",
        "  - GET → Retrieve data.\n",
        "  - POST → Create new data.\n",
        "  - PUT → Update/replace existing data.\n",
        "  - PATCH → Update partially.\n",
        "  - DELETE → Remove data.\n",
        "7. What is the purpose of the @app.route() decorator in Flask?\n",
        "  - It’s a decorator that tells Flask which URL should trigger a given function.\n",
        "  - Example: @app.route('/about') maps /about to the about() function.\n",
        "8. What is the difference between GET and POST HTTP methods?\n",
        "  - GET: Sends data via URL parameters, mainly for retrieval.\n",
        "  - POST: Sends data in the request body, used for creation/modification, more secure for sensitive data.\n",
        "9. How do you handle errors in Flask APIs?\n",
        "  - @app.errorhandler(404)\n",
        "def not_found(e):\n",
        "    return {\"error\": \"Not Found\"}, 404\n",
        "10. How do you connect Flask to a SQL database?\n",
        "  - Install Flask-SQLAlchemy, configure SQLALCHEMY_DATABASE_URI, then create models. Example:\n",
        "  - app.config['SQLALCHEMY_DATABASE_URI'] = 'sqlite:///data.db'\n",
        "db = SQLAlchemy(app)\n",
        "11. What is the role of Flask-SQLAlchemy?\n",
        "  - It’s an ORM (Object Relational Mapper) for Flask, allowing you to interact with databases using Python classes instead of raw SQL queries.\n",
        "12. What are Flask blueprints, and how are they useful?\n",
        "  - Blueprints allow splitting a Flask app into modular components.\n",
        "  - Useful for large apps to separate routes, views, and logic into smaller files.\n",
        "13. What is the purpose of Flask's request object?\n",
        "  - request holds incoming HTTP request data — form values, query parameters, JSON body, headers, etc.\n",
        "14. How do you create a RESTful API endpoint using Flask?\n",
        "  - @app.route('/api/data', methods=['GET'])\n",
        "def get_data():\n",
        "    return jsonify({\"message\": \"Data fetched\"})\n",
        "15. What is the purpose of Flask's jsonify() function?\n",
        "  - Converts Python dictionaries/lists into JSON responses with correct MIME type (application/json).\n",
        "16. Explain Flask’s url_for() function.\n",
        "  - Generates a URL for a given function name, making links dynamic and avoiding hardcoding paths. Example: url_for('home').\n",
        "17. How does Flask handle static files (CSS, JavaScript, etc.)?\n",
        "  - Place CSS, JS, and images in a static/ folder. Access via /static/filename.\n",
        "  - Example: <link rel=\"stylesheet\" href=\"{{ url_for('static', filename='style.css') }}\">.\n",
        "18. What is an API specification, and how does it help in building a Flask API?\n",
        "  - It acts as a contract for the API — ensuring frontend and backend teams follow the same structure and enabling tools like Swagger for docs/testing.\n",
        "19. What are HTTP status codes, and why are they important in a Flask API?\n",
        "  - Codes indicate request results:\n",
        "  200 (OK)\n",
        "  201 (Created)\n",
        "  400 (Bad Request)\n",
        "  404 (Not Found)\n",
        "  500 (Server Error)\n",
        "  They help clients handle responses properly.\n",
        "20. How do you handle POST requests in Flask?\n",
        "  - @app.route('/submit', methods=['POST'])\n",
        "def submit():\n",
        "    data = request.json\n",
        "    return jsonify(data), 201\n",
        "21. How would you secure a Flask API?\n",
        "  - Use authentication (JWT, OAuth), HTTPS, input validation, rate limiting, and avoid exposing sensitive data.\n",
        "22. What is the significance of the Flask-RESTful extension?\n",
        "  - It’s an extension that simplifies building REST APIs in Flask with classes like Resource, automatic routing, and built-in request parsing.\n",
        "23. What is the role of Flask’s session object?\n",
        "  - Stores user-specific data across requests on the server side, using secure cookies.\n",
        "  "
      ],
      "metadata": {
        "id": "u8KVlmqnk5Re"
      }
    },
    {
      "cell_type": "code",
      "source": [
        "#How do you create a basic Flask application?\n",
        "from flask import Flask\n",
        "app = Flask(__name__)\n",
        "\n",
        "@app.route('/')\n",
        "def hello():\n",
        "    return \"Hello World!\"\n",
        "\n",
        "if __name__ == '__main__':\n",
        "    app.run()"
      ],
      "metadata": {
        "colab": {
          "base_uri": "https://localhost:8080/"
        },
        "id": "5p8c9FX-p2ub",
        "outputId": "3febafd8-07d7-4c65-dd54-26a827830292"
      },
      "execution_count": 3,
      "outputs": [
        {
          "output_type": "stream",
          "name": "stdout",
          "text": [
            " * Serving Flask app '__main__'\n",
            " * Debug mode: off\n"
          ]
        },
        {
          "output_type": "stream",
          "name": "stderr",
          "text": [
            "INFO:werkzeug:\u001b[31m\u001b[1mWARNING: This is a development server. Do not use it in a production deployment. Use a production WSGI server instead.\u001b[0m\n",
            " * Running on http://127.0.0.1:5000\n",
            "INFO:werkzeug:\u001b[33mPress CTRL+C to quit\u001b[0m\n"
          ]
        }
      ]
    },
    {
      "cell_type": "code",
      "source": [
        "#How do you serve static files like images or CSS in Flask?\n",
        "from flask import Flask, send_from_directory\n",
        "\n",
        "app = Flask(__name__)\n",
        "\n",
        "@app.route('/static/<path:filename>')\n",
        "def serve_static(filename):\n",
        "    return send_from_directory('static', filename)"
      ],
      "metadata": {
        "id": "fjY2ZYCcp2_7"
      },
      "execution_count": 4,
      "outputs": []
    },
    {
      "cell_type": "code",
      "source": [
        "#How do you define different routes with different HTTP methods in Flask?\n",
        "from flask import Flask, request\n",
        "\n",
        "app = Flask(__name__)\n",
        "\n",
        "@app.route('/get', methods=['GET'])\n",
        "def get_data():\n",
        "    return \"This is a GET request\"\n",
        "\n",
        "@app.route('/post', methods=['POST'])\n",
        "def post_data():\n",
        "    data = request.json\n",
        "    return f\"This is a POST request with data: {data}\""
      ],
      "metadata": {
        "id": "BMWOq4kvp3Ci"
      },
      "execution_count": 5,
      "outputs": []
    },
    {
      "cell_type": "code",
      "source": [
        "#How do you render HTML templates in Flask?\n",
        "from flask import Flask, render_template\n",
        "\n",
        "app = Flask(__name__)\n",
        "\n",
        "@app.route('/')\n",
        "def index():\n",
        "    return render_template('index.html')"
      ],
      "metadata": {
        "id": "YuIDhjrvp3FI"
      },
      "execution_count": 6,
      "outputs": []
    },
    {
      "cell_type": "code",
      "source": [
        "#How can you generate URLs for routes in Flask using url_for?\n",
        "from flask import Flask, url_for\n",
        "\n",
        "app = Flask(__name__)\n",
        "\n",
        "@app.route('/')\n",
        "def index():\n",
        "    return \"This is the home page\"\n",
        "\n",
        "@app.route('/about')\n",
        "def about():\n",
        "    return \"This is the about page\""
      ],
      "metadata": {
        "id": "cVe5d87dp3Hj"
      },
      "execution_count": 7,
      "outputs": []
    },
    {
      "cell_type": "code",
      "source": [
        "#How do you handle forms in Flask?\n",
        "from flask import Flask, render_template, request\n",
        "\n",
        "app = Flask(__name__)\n",
        "\n",
        "@app.route('/')\n",
        "def index():\n",
        "    return render_template('form.html')"
      ],
      "metadata": {
        "id": "iXapKgC8p3Ko"
      },
      "execution_count": 8,
      "outputs": []
    },
    {
      "cell_type": "code",
      "source": [
        "#How can you validate form data in Flask?\n",
        "from flask import Flask, render_template, request\n",
        "\n",
        "app = Flask(__name__)\n",
        "\n",
        "@app.route('/')\n",
        "def index():\n",
        "    return render_template('form.html')\n",
        "\n",
        "@app.route('/submit', methods=['POST'])\n",
        "def submit():\n",
        "    username = request.form['username']\n",
        "    password = request.form['password']\n",
        "    # Add validation logic here\n",
        "    return f\"Username: {username}, Password: {password}\""
      ],
      "metadata": {
        "id": "GzQZ0T1ap3M8"
      },
      "execution_count": 9,
      "outputs": []
    },
    {
      "cell_type": "code",
      "source": [
        "#How do you manage sessions in Flask?\n",
        "from flask import Flask, session\n",
        "\n",
        "app = Flask(__name__)\n",
        "app.secret_key = 'your_secret_key'\n",
        "\n",
        "@app.route('/login')\n",
        "def login():\n",
        "    session['user_id'] = 123\n",
        "    return \"Logged in\"\n",
        "\n",
        "@app.route('/logout')\n",
        "def logout():\n",
        "    session.pop('user_id', None)\n",
        "    return \"Logged out\""
      ],
      "metadata": {
        "id": "nzKPqt4zp3Pw"
      },
      "execution_count": 10,
      "outputs": []
    },
    {
      "cell_type": "code",
      "source": [
        "#How do you redirect to a different route in Flask?\n",
        "from flask import Flask, redirect, url_for\n",
        "\n",
        "app = Flask(__name__)\n",
        "\n",
        "@app.route('/login')\n",
        "def login():\n",
        "    # Simulate login logic\n",
        "    return redirect(url_for('dashboard'))\n",
        "\n",
        "@app.route('/dashboard')\n",
        "def dashboard():\n",
        "    return \"Welcome to the dashboard\""
      ],
      "metadata": {
        "id": "3ppQqK2pp3Tg"
      },
      "execution_count": 11,
      "outputs": []
    },
    {
      "cell_type": "code",
      "source": [
        "#How do you handle errors in Flask (e.g., 404)?\n",
        "from flask import Flask, render_template\n",
        "\n",
        "app = Flask(__name__)\n",
        "\n",
        "@app.errorhandler(404)\n",
        "def page_not_found(error):\n",
        "    return render_template('404.html'), 404"
      ],
      "metadata": {
        "id": "XBNXUPtip3Wu"
      },
      "execution_count": 21,
      "outputs": []
    },
    {
      "cell_type": "code",
      "source": [
        "#How do you structure a Flask app using Blueprints?\n",
        "!apt install blueprints.user\n",
        "from flask import Flask\n",
        "from blueprints.user import user_bp\n",
        "\n",
        "app = Flask(__name__)\n",
        "\n",
        "app.register_blueprint(user_bp, url_prefix='/users')"
      ],
      "metadata": {
        "colab": {
          "base_uri": "https://localhost:8080/",
          "height": 491
        },
        "id": "suaPdtpEp3ZZ",
        "outputId": "5941aeee-43a4-48ee-ed66-2da881a66e4b"
      },
      "execution_count": 13,
      "outputs": [
        {
          "output_type": "stream",
          "name": "stdout",
          "text": [
            "Reading package lists... Done\n",
            "Building dependency tree... Done\n",
            "Reading state information... Done\n",
            "\u001b[1;31mE: \u001b[0mUnable to locate package blueprints.user\u001b[0m\n",
            "\u001b[1;31mE: \u001b[0mCouldn't find any package by glob 'blueprints.user'\u001b[0m\n"
          ]
        },
        {
          "output_type": "error",
          "ename": "ModuleNotFoundError",
          "evalue": "No module named 'blueprints'",
          "traceback": [
            "\u001b[0;31m---------------------------------------------------------------------------\u001b[0m",
            "\u001b[0;31mModuleNotFoundError\u001b[0m                       Traceback (most recent call last)",
            "\u001b[0;32m/tmp/ipython-input-3891447930.py\u001b[0m in \u001b[0;36m<cell line: 0>\u001b[0;34m()\u001b[0m\n\u001b[1;32m      2\u001b[0m \u001b[0mget_ipython\u001b[0m\u001b[0;34m(\u001b[0m\u001b[0;34m)\u001b[0m\u001b[0;34m.\u001b[0m\u001b[0msystem\u001b[0m\u001b[0;34m(\u001b[0m\u001b[0;34m'apt install blueprints.user'\u001b[0m\u001b[0;34m)\u001b[0m\u001b[0;34m\u001b[0m\u001b[0;34m\u001b[0m\u001b[0m\n\u001b[1;32m      3\u001b[0m \u001b[0;32mfrom\u001b[0m \u001b[0mflask\u001b[0m \u001b[0;32mimport\u001b[0m \u001b[0mFlask\u001b[0m\u001b[0;34m\u001b[0m\u001b[0;34m\u001b[0m\u001b[0m\n\u001b[0;32m----> 4\u001b[0;31m \u001b[0;32mfrom\u001b[0m \u001b[0mblueprints\u001b[0m\u001b[0;34m.\u001b[0m\u001b[0muser\u001b[0m \u001b[0;32mimport\u001b[0m \u001b[0muser_bp\u001b[0m\u001b[0;34m\u001b[0m\u001b[0;34m\u001b[0m\u001b[0m\n\u001b[0m\u001b[1;32m      5\u001b[0m \u001b[0;34m\u001b[0m\u001b[0m\n\u001b[1;32m      6\u001b[0m \u001b[0mapp\u001b[0m \u001b[0;34m=\u001b[0m \u001b[0mFlask\u001b[0m\u001b[0;34m(\u001b[0m\u001b[0m__name__\u001b[0m\u001b[0;34m)\u001b[0m\u001b[0;34m\u001b[0m\u001b[0;34m\u001b[0m\u001b[0m\n",
            "\u001b[0;31mModuleNotFoundError\u001b[0m: No module named 'blueprints'",
            "",
            "\u001b[0;31m---------------------------------------------------------------------------\u001b[0;32m\nNOTE: If your import is failing due to a missing package, you can\nmanually install dependencies using either !pip or !apt.\n\nTo view examples of installing some common dependencies, click the\n\"Open Examples\" button below.\n\u001b[0;31m---------------------------------------------------------------------------\u001b[0m\n"
          ],
          "errorDetails": {
            "actions": [
              {
                "action": "open_url",
                "actionText": "Open Examples",
                "url": "/notebooks/snippets/importing_libraries.ipynb"
              }
            ]
          }
        }
      ]
    },
    {
      "cell_type": "code",
      "source": [
        "#How do you define a custom Jinja filter in Flask?\n",
        "from flask import Flask\n",
        "from jinja2 import Environment, FileSystemLoader\n",
        "\n",
        "app = Flask(__name__)\n",
        "env = Environment(loader=FileSystemLoader('.'))\n",
        "\n",
        "@app.template_filter('custom_filter')\n",
        "def custom_filter(value):\n",
        "    return value.upper()"
      ],
      "metadata": {
        "id": "ZYFqfiLVp3b2"
      },
      "execution_count": 20,
      "outputs": []
    },
    {
      "cell_type": "code",
      "source": [
        "#How can you redirect with query parameters in Flask?\n",
        "from flask import Flask, redirect, url_for, request\n",
        "\n",
        "app = Flask(__name__)\n",
        "\n",
        "@app.route('/login')\n",
        "def login():\n",
        "    return redirect(url_for('dashboard', next=request.args.get('next')))\n",
        "\n",
        "@app.route('/dashboard')\n",
        "def dashboard():\n",
        "    return \"Welcome to the dashboard\""
      ],
      "metadata": {
        "id": "lNMEVKIIp3en"
      },
      "execution_count": 19,
      "outputs": []
    },
    {
      "cell_type": "code",
      "source": [
        "#How do you return JSON responses in Flask?\n",
        "from flask import Flask, jsonify\n",
        "\n",
        "app = Flask(__name__)\n",
        "\n",
        "@app.route('/api/data')\n",
        "def get_data():\n",
        "    data = {'message': 'Hello, World!'}\n",
        "    return jsonify(data)"
      ],
      "metadata": {
        "id": "7VMQEUomp3hE"
      },
      "execution_count": 16,
      "outputs": []
    },
    {
      "cell_type": "code",
      "source": [
        "# How do you capture URL parameters in Flask?\n",
        "from flask import Flask, request\n",
        "\n",
        "app = Flask(__name__)\n",
        "\n",
        "@app.route('/user/<username>')\n",
        "def user_profile(username):\n",
        "    return f\"Welcome, {username}!\""
      ],
      "metadata": {
        "id": "PoULbDG8p3ji"
      },
      "execution_count": 18,
      "outputs": []
    }
  ]
}