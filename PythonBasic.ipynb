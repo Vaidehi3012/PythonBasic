{
  "nbformat": 4,
  "nbformat_minor": 0,
  "metadata": {
    "colab": {
      "provenance": []
    },
    "kernelspec": {
      "name": "python3",
      "display_name": "Python 3"
    },
    "language_info": {
      "name": "python"
    }
  },
  "cells": [
    {
      "cell_type": "markdown",
      "source": [
        "#PythonBasics"
      ],
      "metadata": {
        "id": "-E0STXWIe4i5"
      }
    },
    {
      "cell_type": "markdown",
      "source": [
        "1. What is Python, and why is it popular?\n",
        "  - Python is a High Level, Versatile, General Purpose and Powerful programming language. It is Free and Open Source.\n",
        "  - Python is popular because of its readable syntax and easy to use/beginner friendly programming also it has vast number of famous libraries including Pandas, NumPy, PyQT and many more.\n",
        "2. What is an interpreter in Python?\n",
        "  - Interpreter in Python is a program that reads and executes Python code line by line. It acts as a translator, converting the human-readable code into machine executable instructions.\n",
        "3. What are pre-defined keywords in Python?\n",
        "  - Predefined keywords in Python are reserved words that have special meanings and functionalities within the language. They can't be used as Variable name or Identifiers. Examples : if, else, return, True, False, import, try, expect, etc\n",
        "4. Can keywords be used as variable names?\n",
        "  - Keywords cannot be used as variable names in python. Python keywords are reserved keywords that have special meanings and functionalities. Attempting to use a keyword as a variable name will result in SyntaxError!.\n",
        "5. What is mutability in Python?\n",
        "  - In Python, Mutability refers to Objects/Containers whose state or value can be changed after they are created. They can be modified in-place without need to create any new Object. Examples : list, dictionaries, sets\n",
        "6.  Why are lists mutable, but tuples are immutable?\n",
        "  - Lists are mutable because the elements in the list can be changed/modified after they are created and changed but elements in tuple cannot be change or modified once they are created in order to change the elements new tuple should be created.\n",
        "7. What is the difference between “==” and “is” operators in Python?\n",
        "  - \"==\" Equality Operator = Compares the values of two objects. It checks if the content or data held by the objects are same\n",
        "  - \"is\" Identity Operator = Compares the identity of two objects. It checks if two variables refer to the exact same object in memory.\n",
        "8. What are logical operators in Python?\n",
        "  - Logical Operators in python are used to combine conditional statements and evaluate based on their truth values (True or False). They are crucial for controlling program flow and making decisions within code. Logical Operators : AND, OR, NOT.\n",
        "9. What is type casting in Python?\n",
        "  - TypeCasting is the process of converting the one data type to another data type of a value/object. There are two types of TypeCasting : Implicit TypeCassting and Explicit TypeCasting.\n",
        "10.  What is the difference between implicit and explicit type casting?\n",
        "  - Implicit TypeCasting happens automatically by the compiler when converting a value from a smaller data type to a larger one, without programmer's intervention. Explicit TypeCasting occurs when the programmer manually converts a value from one data type to another using inbuilt function.\n",
        "11. What is the purpose of conditional statements in Python?\n",
        "  - Conditional Statements helps you to code decisions based on some preconditions. Conditional Statements includes : if, if...else, if...elif...else, nested if...else. For Example : Condition is Only 18above adults can Vote for elections below18 are considered as minority.\n",
        "12. How does the elif statement work?\n",
        "  - Elif is short form for \"else if\" and is used when the first if statement isn't true, but you want to check for another condition.\n",
        "  -Syntax : if (condition): block of code /n elif (condition): block of code /n else: block of code\n",
        "13. What is the difference between for and while loops?\n",
        "  - The main difference between FOR and WHILE loops lies in their intended use: for loops are typically used when you know the number of iterations beforehand (like looping through a list). while while loops are used when the number of iterations is not known in advance and depends on a condition being met.\n",
        "14. Describe a scenario where a while loop is more suitable than a for loop.\n",
        "  - A while loop is more suitable than a for loop when you don't know in advance how many times the loop should run, and the repetitions should depend on a condition being true.\n",
        "  - Scenario Example : User Input Validation(writing a program that keeps asking the user to enter a password until they enter the correct one).\n"
      ],
      "metadata": {
        "id": "tGIlqZepWkKQ"
      }
    },
    {
      "cell_type": "code",
      "source": [
        "#Write a Python program to print \"Hello, World!\"\"\n",
        "print(\"Hello, World!\")"
      ],
      "metadata": {
        "colab": {
          "base_uri": "https://localhost:8080/"
        },
        "id": "ghcc24qKA-Vz",
        "outputId": "6789e630-e94f-489c-dad2-ecbda7cde1fa"
      },
      "execution_count": 1,
      "outputs": [
        {
          "output_type": "stream",
          "name": "stdout",
          "text": [
            "Hello, World!\n"
          ]
        }
      ]
    },
    {
      "cell_type": "code",
      "source": [
        "#Write a Python program that displays your name and age.\n",
        "Name = \"Vaidehi\"\n",
        "Age = 21\n",
        "print(\"My Name is\", Name)\n",
        "print(\"My Age is\", Age)"
      ],
      "metadata": {
        "colab": {
          "base_uri": "https://localhost:8080/"
        },
        "id": "d5nnph4gBJ95",
        "outputId": "81e57ad2-2bb7-41c5-f514-0e7faf3b34cc"
      },
      "execution_count": 9,
      "outputs": [
        {
          "output_type": "stream",
          "name": "stdout",
          "text": [
            "My Name is Vaidehi\n",
            "My Age is 21\n"
          ]
        }
      ]
    },
    {
      "cell_type": "code",
      "source": [
        "#Write code to print all the pre-defined keywords in Python using the keyword library.\n",
        "import keyword\n",
        "all_keywords = keyword.kwlist\n",
        "print(all_keywords)"
      ],
      "metadata": {
        "colab": {
          "base_uri": "https://localhost:8080/"
        },
        "id": "zcFbq56uCRCI",
        "outputId": "0a47c091-d1be-428c-d941-66358dc6e8af"
      },
      "execution_count": 13,
      "outputs": [
        {
          "output_type": "stream",
          "name": "stdout",
          "text": [
            "['False', 'None', 'True', 'and', 'as', 'assert', 'async', 'await', 'break', 'class', 'continue', 'def', 'del', 'elif', 'else', 'except', 'finally', 'for', 'from', 'global', 'if', 'import', 'in', 'is', 'lambda', 'nonlocal', 'not', 'or', 'pass', 'raise', 'return', 'try', 'while', 'with', 'yield']\n"
          ]
        }
      ]
    },
    {
      "cell_type": "code",
      "source": [
        "#Write a program that checks if a given word is a Python keyword.\n",
        "import keyword\n",
        "word = \"True\"\n",
        "if keyword.iskeyword(word):\n",
        "  print(word, \"is a python keyword.\")\n",
        "else:\n",
        "  print(word, \"is not a python keyword.\")"
      ],
      "metadata": {
        "colab": {
          "base_uri": "https://localhost:8080/"
        },
        "id": "eq--v0mQphh6",
        "outputId": "2328e986-30e8-4cea-89a9-4cb374313db4"
      },
      "execution_count": 6,
      "outputs": [
        {
          "output_type": "stream",
          "name": "stdout",
          "text": [
            "True is a python keyword.\n"
          ]
        }
      ]
    },
    {
      "cell_type": "code",
      "source": [
        "#Create a list and tuple in Python, and demonstrate how attempting to change an element works differently for each.\n",
        "my_list = [\"Vaidehi\", \"Badlapur\",21]\n",
        "my_tuple = (\"Vaidehi\", \"Badlapur\", 21)\n",
        "#Modifying elements in List\n",
        "my_list[2] = 30\n",
        "print(\"Modified list:\",my_list)\n",
        "#Modifying elements in Tuple\n",
        "my_tuple[0] = \"Ishika\"\n",
        "print(\"Modified tuple:\",my_tuple)"
      ],
      "metadata": {
        "colab": {
          "base_uri": "https://localhost:8080/",
          "height": 211
        },
        "collapsed": true,
        "id": "KtTjP0aTtrBI",
        "outputId": "9be93ca2-6937-431e-e5dd-7beed433a899"
      },
      "execution_count": 15,
      "outputs": [
        {
          "output_type": "stream",
          "name": "stdout",
          "text": [
            "Modified list: ['Vaidehi', 'Badlapur', 30]\n"
          ]
        },
        {
          "output_type": "error",
          "ename": "TypeError",
          "evalue": "'tuple' object does not support item assignment",
          "traceback": [
            "\u001b[0;31m---------------------------------------------------------------------------\u001b[0m",
            "\u001b[0;31mTypeError\u001b[0m                                 Traceback (most recent call last)",
            "\u001b[0;32m/tmp/ipython-input-15-44679003.py\u001b[0m in \u001b[0;36m<cell line: 0>\u001b[0;34m()\u001b[0m\n\u001b[1;32m      6\u001b[0m \u001b[0mprint\u001b[0m\u001b[0;34m(\u001b[0m\u001b[0;34m\"Modified list:\"\u001b[0m\u001b[0;34m,\u001b[0m\u001b[0mmy_list\u001b[0m\u001b[0;34m)\u001b[0m\u001b[0;34m\u001b[0m\u001b[0;34m\u001b[0m\u001b[0m\n\u001b[1;32m      7\u001b[0m \u001b[0;31m#Modifying elements in Tuple\u001b[0m\u001b[0;34m\u001b[0m\u001b[0;34m\u001b[0m\u001b[0m\n\u001b[0;32m----> 8\u001b[0;31m \u001b[0mmy_tuple\u001b[0m\u001b[0;34m[\u001b[0m\u001b[0;36m0\u001b[0m\u001b[0;34m]\u001b[0m \u001b[0;34m=\u001b[0m \u001b[0;34m\"Ishika\"\u001b[0m\u001b[0;34m\u001b[0m\u001b[0;34m\u001b[0m\u001b[0m\n\u001b[0m\u001b[1;32m      9\u001b[0m \u001b[0mprint\u001b[0m\u001b[0;34m(\u001b[0m\u001b[0;34m\"Modified tuple:\"\u001b[0m\u001b[0;34m,\u001b[0m\u001b[0mmy_tuple\u001b[0m\u001b[0;34m)\u001b[0m\u001b[0;34m\u001b[0m\u001b[0;34m\u001b[0m\u001b[0m\n",
            "\u001b[0;31mTypeError\u001b[0m: 'tuple' object does not support item assignment"
          ]
        }
      ]
    },
    {
      "cell_type": "code",
      "source": [
        "#Write a function to demonstrate the behavior of mutable and immutable arguments.\n",
        "def mutable_immutable(imm, mut):\n",
        "    print(\"Inside before: imm =\", imm, \", mut =\", mut)\n",
        "    imm += 10\n",
        "    mut.append(\"new_item\")\n",
        "    print(\"Inside after:  imm =\", imm, \", mut =\", mut)\n",
        "my_int = 5\n",
        "my_list = [\"a\", \"b\", \"c\"]\n",
        "print(\"Before calling:\")\n",
        "print(\" my_int:\", my_int)\n",
        "print(\" my_list:\", my_list)\n",
        "mutable_immutable(my_int, my_list)\n",
        "print(\"\\nAfter calling:\")\n",
        "print(\" my_int:\", my_int)\n",
        "print(\" my_list:\", my_list)"
      ],
      "metadata": {
        "colab": {
          "base_uri": "https://localhost:8080/"
        },
        "id": "Rzb_cfYFutAW",
        "outputId": "76f7ff85-4306-4af1-d147-52443d3885a8"
      },
      "execution_count": 25,
      "outputs": [
        {
          "output_type": "stream",
          "name": "stdout",
          "text": [
            "Before calling:\n",
            " my_int: 5\n",
            " my_list: ['a', 'b', 'c']\n",
            "Inside before: imm = 5 , mut = ['a', 'b', 'c']\n",
            "Inside after:  imm = 15 , mut = ['a', 'b', 'c', 'new_item']\n",
            "\n",
            "After calling:\n",
            " my_int: 5\n",
            " my_list: ['a', 'b', 'c', 'new_item']\n"
          ]
        }
      ]
    },
    {
      "cell_type": "code",
      "source": [
        "#Write a program that performs basic arithmetic operations on two user-input numbers.\n",
        "num1 = int(input(\"Enter First Number : \"))\n",
        "num2 = int(input(\"Enter Second Number : \"))\n",
        "print(\"Addition of Two Numbers :\", num1+num2)\n",
        "print(\"Subraction of Two Numbers :\", num1-num2)\n",
        "print(\"Multiplication of Two Numbers :\", num1*num2)\n",
        "print(\"Division of Two Numbers :\", num1/num2)\n",
        "print(\"Floor Division of Two Numbers :\", num1//num2)\n",
        "print(\"Modulus of Two Numbers :\", num1%num2)\n",
        "print(\"Exponentiation of Two Numbers :\", num1**num2)"
      ],
      "metadata": {
        "colab": {
          "base_uri": "https://localhost:8080/"
        },
        "id": "QHNU9Z9R0mGK",
        "outputId": "9ca64f45-ff54-420b-9a90-05d318f9cddd"
      },
      "execution_count": 26,
      "outputs": [
        {
          "output_type": "stream",
          "name": "stdout",
          "text": [
            "Enter First Number : 2\n",
            "Enter Second Number : 2\n",
            "Addition of Two Numbers : 4\n",
            "Subraction of Two Numbers : 0\n",
            "Multiplication of Two Numbers : 4\n",
            "Division of Two Numbers : 1.0\n",
            "Floor Division of Two Numbers : 1\n",
            "Modulus of Two Numbers : 0\n",
            "Exponentiation of Two Numbers : 4\n"
          ]
        }
      ]
    },
    {
      "cell_type": "code",
      "source": [
        "#Write a program to demonstrate the use of logical operators.\n",
        "a = int(input(\"Enter the first number: \"))\n",
        "b = int(input(\"Enter the second number: \"))\n",
        "#AND\n",
        "if a > 0 and b > 0:\n",
        "    print(\"Both numbers are positive.\")\n",
        "else:\n",
        "    print(\"At least one number is not positive.\")\n",
        "#OR\n",
        "if a > 0 or b > 0:\n",
        "    print(\"At least one number is positive.\")\n",
        "else:\n",
        "    print(\"Neither number is positive.\")\n",
        "#NOT\n",
        "if not (a < 0):\n",
        "    print(\"First number is not negative.\")\n",
        "else:\n",
        "    print(\"First number is negative.\")"
      ],
      "metadata": {
        "colab": {
          "base_uri": "https://localhost:8080/"
        },
        "id": "RleP1mh82P7L",
        "outputId": "df78c72e-4cdd-43d9-931b-abc71dbcef54"
      },
      "execution_count": 7,
      "outputs": [
        {
          "output_type": "stream",
          "name": "stdout",
          "text": [
            "Enter the first number: -1\n",
            "Enter the second number: 20\n",
            "At least one number is not positive.\n",
            "At least one number is positive.\n",
            "First number is negative.\n"
          ]
        }
      ]
    },
    {
      "cell_type": "code",
      "source": [
        "#Write a Python program to convert user input from string to integer, float, and boolean types.\n",
        "value = input(\"Enter a value: \")\n",
        "#INT\n",
        "if value.isdigit():\n",
        "    int_value = int(value)\n",
        "    print(\"Integer value:\", int_value)\n",
        "else:\n",
        "    print(\"Cannot convert to integer\")\n",
        "#FLOAT\n",
        "if value.replace('.', '', 1).isdigit():\n",
        "    float_value = float(value)\n",
        "    print(\"Float value:\", float_value)\n",
        "else:\n",
        "    print(\"Cannot convert to float\")\n",
        "#BOOL\n",
        "if value.lower() == \"true\" or value.lower() == \"yes\" or value == \"1\":\n",
        "    bool_value = True\n",
        "else:\n",
        "    bool_value = False\n",
        "print(\"Boolean value:\", bool_value)"
      ],
      "metadata": {
        "id": "UbM6t4UKfHBd"
      },
      "execution_count": null,
      "outputs": []
    },
    {
      "cell_type": "code",
      "source": [
        "#Write code to demonstrate type casting with list elements.\n",
        "string_list = ['1', '2', '3']\n",
        "print(\"Original list:\", string_list)\n",
        "#Convert to integers\n",
        "int_list = [int(x) for x in string_list]\n",
        "print(\"As integers:\", int_list)\n",
        "#Convert to floats\n",
        "float_list = [float(x) for x in string_list]\n",
        "print(\"As floats:\", float_list)\n",
        "#Convert to booleans\n",
        "bool_list = [bool(x) for x in string_list]\n",
        "print(\"As booleans:\", bool_list)"
      ],
      "metadata": {
        "colab": {
          "base_uri": "https://localhost:8080/"
        },
        "id": "cveh4qYyfHZZ",
        "outputId": "6ff06a32-6334-438f-ba0f-0fc5ad9247de"
      },
      "execution_count": 10,
      "outputs": [
        {
          "output_type": "stream",
          "name": "stdout",
          "text": [
            "Original list: ['1', '2', '3']\n",
            "As integers: [1, 2, 3]\n",
            "As floats: [1.0, 2.0, 3.0]\n",
            "As booleans: [True, True, True]\n"
          ]
        }
      ]
    },
    {
      "cell_type": "code",
      "source": [
        "#Write a program that checks if a number is positive, negative, or zero.\n",
        "num = int(input(\"Enter a number: \"))\n",
        "if num > 0:\n",
        "  print(\"The number {} is positive.\".format(num))\n",
        "elif num < 0:\n",
        "  print(\"The number {} is negative.\".format(num))\n",
        "else:\n",
        "  print(\"The number {} is zero.\".format(num))"
      ],
      "metadata": {
        "colab": {
          "base_uri": "https://localhost:8080/"
        },
        "id": "aR01Tx7DfHr1",
        "outputId": "560c7e25-2075-4acc-914b-f8a0e5378c7a"
      },
      "execution_count": 13,
      "outputs": [
        {
          "output_type": "stream",
          "name": "stdout",
          "text": [
            "Enter a number: -1\n",
            "The number -1 is negative.\n"
          ]
        }
      ]
    },
    {
      "cell_type": "code",
      "source": [
        "#Write a for loop to print numbers from 1 to 10.\n",
        "for x in range(1,11):\n",
        "  print(x)"
      ],
      "metadata": {
        "colab": {
          "base_uri": "https://localhost:8080/"
        },
        "id": "pMxNGJdEsEhU",
        "outputId": "dca93fbb-00f5-42fd-df4d-2a7acc7fc5ee"
      },
      "execution_count": 14,
      "outputs": [
        {
          "output_type": "stream",
          "name": "stdout",
          "text": [
            "1\n",
            "2\n",
            "3\n",
            "4\n",
            "5\n",
            "6\n",
            "7\n",
            "8\n",
            "9\n",
            "10\n"
          ]
        }
      ]
    },
    {
      "cell_type": "code",
      "source": [
        "#Write a Python program to find the sum of all even numbers between 1 and 50.\n",
        "even_numbers = 0\n",
        "print(\"Even Numbers between 1 to 50 are: \")\n",
        "for even_numbers in range(1,51):\n",
        "  if even_numbers % 2 == 0:\n",
        "    print(even_numbers)"
      ],
      "metadata": {
        "colab": {
          "base_uri": "https://localhost:8080/"
        },
        "id": "ap5cSHxGsE7T",
        "outputId": "37672a46-384e-46f7-c24a-4fde99843296"
      },
      "execution_count": 19,
      "outputs": [
        {
          "output_type": "stream",
          "name": "stdout",
          "text": [
            "Even Numbers between 1 to 50 are: \n",
            "2\n",
            "4\n",
            "6\n",
            "8\n",
            "10\n",
            "12\n",
            "14\n",
            "16\n",
            "18\n",
            "20\n",
            "22\n",
            "24\n",
            "26\n",
            "28\n",
            "30\n",
            "32\n",
            "34\n",
            "36\n",
            "38\n",
            "40\n",
            "42\n",
            "44\n",
            "46\n",
            "48\n",
            "50\n"
          ]
        }
      ]
    },
    {
      "cell_type": "code",
      "source": [
        "#Write a program to reverse a string using a while loop.\n",
        "string = input(\"Enter a String: \")\n",
        "reverse = \"\"\n",
        "while string:\n",
        "  reverse += string[-1]\n",
        "  string = string[:-1]\n",
        "print(reverse)"
      ],
      "metadata": {
        "colab": {
          "base_uri": "https://localhost:8080/"
        },
        "id": "hw9e3R6iuFoy",
        "outputId": "a84230f8-0b65-46cd-8aaf-a3a9fe62e6d7"
      },
      "execution_count": 21,
      "outputs": [
        {
          "output_type": "stream",
          "name": "stdout",
          "text": [
            "Enter a String: im\n",
            "mi\n"
          ]
        }
      ]
    },
    {
      "cell_type": "code",
      "source": [
        "#Write a Python program to calculate the factorial of a number provided by the user using a while loop.\n",
        "fact = int(input(\"Enter a number: \"))\n",
        "factorial = 1\n",
        "while fact > 0:\n",
        "  factorial = factorial * fact\n",
        "  fact = fact - 1\n",
        "  print(factorial)"
      ],
      "metadata": {
        "colab": {
          "base_uri": "https://localhost:8080/"
        },
        "id": "aKZ2G4Zvum3W",
        "outputId": "b28c7623-1e55-4581-cbb4-b74705ad95a5"
      },
      "execution_count": 25,
      "outputs": [
        {
          "output_type": "stream",
          "name": "stdout",
          "text": [
            "Enter a number: 6\n",
            "6\n",
            "30\n",
            "120\n",
            "360\n",
            "720\n",
            "720\n"
          ]
        }
      ]
    }
  ]
}