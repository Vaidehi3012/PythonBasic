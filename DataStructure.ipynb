{
  "nbformat": 4,
  "nbformat_minor": 0,
  "metadata": {
    "colab": {
      "provenance": []
    },
    "kernelspec": {
      "name": "python3",
      "display_name": "Python 3"
    },
    "language_info": {
      "name": "python"
    }
  },
  "cells": [
    {
      "cell_type": "markdown",
      "source": [
        "#DataStructure"
      ],
      "metadata": {
        "id": "TIll4TbyZ06a"
      }
    },
    {
      "cell_type": "markdown",
      "source": [
        "1. What are data structures, and why are they important?\n",
        "  - Data Structure is a way of organizing and storing data so that it can be accessed easily and manipulated efficiently.\n",
        "  - They are crucial for optimizing code performance, enabling faster and more effective computations, and making it easier to understand and maintain code.\n",
        "2. Explain the difference between mutable and immutable data types with examples.\n",
        "  - Mutable data types can be modified after they are created, while immutable data types cannot be modified after they are created, they remain the same till execution.\n",
        "  - Lists, dictionaries, and sets are mutable, meaning their contents can be changed.\n",
        "  - Strings, tuples, and numbers are immutable, their values cannot be altered once they are assigned.\n",
        "3. What are the main differences between lists and tuples in Python?\n",
        "  - Mutability is the most significant difference, Lists are mutable, meaning their elements can be changed (added, removed, or modified) after the list is created. Tuples are immutable, meaning their elements cannot be changed once the tuple is created.\n",
        "  - Lists are enclosed in [] (square brackets) while tuples are enclosed in () (parenthesis).\n",
        "4. Describe how dictionaries store data.\n",
        "  - Dictionaries store data using Key - Value pairs.\n",
        "  - Dictionaries are enclosed in {} (curly braces).\n",
        "  - For Example : my_dict = {\"Name\":\"Vaidehi\",\"Age\":21}\n",
        "5. Why might you use a set instead of a list in Python?\n",
        "  - Sets are standard Python data type that also store values.\n",
        "  - The major difference is that sets, unlike lists, cannot have multiple occurrences of the same element and store unordered values.\n",
        "6. What is a string in Python, and how is it different from a list?\n",
        "  - String is a sequence of character that represents and manipulates textual data.\n",
        "  - Difference between String and List is that String is a sequence of characters and List is a sequence of values which can be either characters, integers, or other. Also String is Immutable and Lists are Mutable.\n",
        "7. How do tuples ensure data integrity in Python?\n",
        "  - Tuples are immutable to ensure that their contents remain constant throughout their lifecycle, guaranteeing data integrity and reliability.\n",
        "  - This immutability allows tuples to be used as keys in dictionaries and elements in sets, as they can be hashed.\n",
        "8. What is a hash table, and how does it relate to dictionaries in Python?\n",
        "  - A hash table is a data structure that implements an associative array, also known as a dictionary or map.\n",
        "  - It stores key-value pairs by using a hash function to compute an index into an array of buckets or slots, from which the desired value can be retrieved.\n",
        "  - Python's built-in dict type is an implementation of a hash table - Hashing the key, Mapping to Index and Storage are done when you create dict in Python.\n",
        "9. Can lists contain different data types in Python?\n",
        "  - Yes, lists in Python can contain elements of different data types. This is a key feature of Python lists, making them highly versatile.\n",
        "10.  Explain why strings are immutable in Python?\n",
        "  - Strings are Immutable in Python so that programmers cannot alter the contents of the object (even by mistake).\n",
        "  - This avoids unnecessary bugs.\n",
        "11. What advantages do dictionaries offer over lists for certain tasks?\n",
        "  - Advantages of Dictionaries over Lists: Dictionaries provide faster lookups compared to lists when searching by key.\n",
        "  - Dictionary is more useful when the indexing is needed so that any search can be narrowed down and is less time-consuming.\n",
        "  - E.g. Saving phone numbers. If indexing is done then searching with the name will take less time than a list.\n",
        "12.  Describe a scenario where using a tuple would be preferable over a list.\n",
        "  - For saving someone's personal details example, Saving AadharCard Number whose value cannot be manipulated once they are inserted.\n",
        "  - This is the Immutability function of Tuple.\n",
        "13.  How do sets handle duplicate values in Python?\n",
        "  - Sets are unordered and unique collection of elements.\n",
        "  - Here, unique collection of data means if an elements occurs more than 1 time in a set, it is returned only one time in output.\n",
        "  - Example : set = {\"pwkills\", 1, 2, \"pwskills\", 1} print(set) output will be : {'pwskills', 1, 2}\n",
        "14. How does the “in” keyword work differently for lists and dictionaries?\n",
        "  - In Dictionaries: The \"in\" operator works on dictionaries, it tells you whether something appears or not as a key in the dictionary. It returns two values True or False.\n",
        "  - In Lists: The \"in\" keyword can be used to test whether certain characters are present in a string or a certain value present in a list.\n",
        "15. Can you modify the elements of a tuple? Explain why or why not.\n",
        "  - Tuples are Immutable means the elements in the tuple cannot be modified once it is created.\n",
        "  - It is because Data Type - Tuple doesn't support item assignment because of Integrity and Memory Usage.\n",
        "16. What is a nested dictionary, and give an example of its use case.\n",
        "  - A nested dictionary in Python is a dictionary that contains other dictionaries as its values.\n",
        "  - This allows for creating complex, hierarchical data structures, similar to records or structs, useful for representing structured information.\n",
        "17.  Describe the time complexity of accessing elements in a dictionary.\n",
        "  - Accessing elements in a dictionary(or hash table) typically has a time complexity of O(1) on average. This means that the time it takes to retrieve a value by its key is, on average, constant and doesn't depend on the size of the dictionary.\n",
        "18. In what situations are lists preferred over dictionaries.\n",
        "  - Lists are generally preferred over dictionaries when the order of elements matters and when you need to access elements by their index, especially in scenarios like stacks, queues, or when sorting is required.\n",
        "19. Why are dictionaries considered unordered, and how does that affect data retrieval?\n",
        "  - In python, dictionaries are un-ordered because Python dictionaries are not intended to be in order.\n",
        "20. Explain the difference between a list and a dictionary in terms of data retrieval.\n",
        "  - A list is an ordered collection of items, whereas a dictionary is an unordered data collection in a key: value pair.\n",
        "  - Elements from the list can be accessed using the index, while the elements of the dictionary can be accessed using keys."
      ],
      "metadata": {
        "id": "PuTeFxoiZ1I7"
      }
    },
    {
      "cell_type": "code",
      "source": [
        "#Write a code to create a string with your name and print it.\n",
        "name = \"Vaidehi\"\n",
        "print(name)"
      ],
      "metadata": {
        "colab": {
          "base_uri": "https://localhost:8080/"
        },
        "id": "Ij6K1UrgnrBd",
        "outputId": "bb9483ed-b851-4b86-8b87-51b46c9a1a8c"
      },
      "execution_count": 19,
      "outputs": [
        {
          "output_type": "stream",
          "name": "stdout",
          "text": [
            "Vaidehi\n"
          ]
        }
      ]
    },
    {
      "cell_type": "code",
      "source": [
        "#Write a code to find the length of the string \"Hello World\".\n",
        "string = \"Hello World\"\n",
        "len(string)"
      ],
      "metadata": {
        "colab": {
          "base_uri": "https://localhost:8080/"
        },
        "id": "QKRS-33unrU5",
        "outputId": "7f1a9bf3-44bb-485a-80db-6cad93fa2bd8"
      },
      "execution_count": 17,
      "outputs": [
        {
          "output_type": "execute_result",
          "data": {
            "text/plain": [
              "11"
            ]
          },
          "metadata": {},
          "execution_count": 17
        }
      ]
    },
    {
      "cell_type": "code",
      "source": [
        "#Write a code to slice the first 3 characters from the string \"Python Programming\".\n",
        "string = \"Python Programming\"\n",
        "string[0:3]"
      ],
      "metadata": {
        "colab": {
          "base_uri": "https://localhost:8080/",
          "height": 36
        },
        "id": "YlvjcauOnrhZ",
        "outputId": "aca43f59-6039-4e1c-f341-4d25447817a3"
      },
      "execution_count": 6,
      "outputs": [
        {
          "output_type": "execute_result",
          "data": {
            "text/plain": [
              "'Pyt'"
            ],
            "application/vnd.google.colaboratory.intrinsic+json": {
              "type": "string"
            }
          },
          "metadata": {},
          "execution_count": 6
        }
      ]
    },
    {
      "cell_type": "code",
      "source": [
        "#Write a code to convert the string \"hello\" to uppercase.\n",
        "string = \"hello\"\n",
        "string.upper()"
      ],
      "metadata": {
        "colab": {
          "base_uri": "https://localhost:8080/",
          "height": 36
        },
        "id": "PKl5--Eznrup",
        "outputId": "daa4df71-aac7-4f09-dd5b-1cfd4510c0fb"
      },
      "execution_count": 9,
      "outputs": [
        {
          "output_type": "execute_result",
          "data": {
            "text/plain": [
              "'HELLO'"
            ],
            "application/vnd.google.colaboratory.intrinsic+json": {
              "type": "string"
            }
          },
          "metadata": {},
          "execution_count": 9
        }
      ]
    },
    {
      "cell_type": "code",
      "source": [
        "#Write a code to replace the word \"apple\" with \"orange\" in the string \"I like apple\".\n",
        "string = \"I like Apple\"\n",
        "string.replace(\"Apple\",\"Orange\")"
      ],
      "metadata": {
        "colab": {
          "base_uri": "https://localhost:8080/",
          "height": 36
        },
        "id": "rv8njuNpsNIG",
        "outputId": "e4a11a58-b4a1-4f0c-e07b-ce454d84c5b1"
      },
      "execution_count": 10,
      "outputs": [
        {
          "output_type": "execute_result",
          "data": {
            "text/plain": [
              "'I like Orange'"
            ],
            "application/vnd.google.colaboratory.intrinsic+json": {
              "type": "string"
            }
          },
          "metadata": {},
          "execution_count": 10
        }
      ]
    },
    {
      "cell_type": "code",
      "source": [
        "#Write a code to create a list with numbers 1 to 5 and print it.\n",
        "list = [1,2,3,4,5]\n",
        "print(list)"
      ],
      "metadata": {
        "colab": {
          "base_uri": "https://localhost:8080/"
        },
        "id": "6dUXZyO3sNW8",
        "outputId": "6ec3da84-0543-4beb-896d-b4465dc9f519"
      },
      "execution_count": 20,
      "outputs": [
        {
          "output_type": "stream",
          "name": "stdout",
          "text": [
            "[1, 2, 3, 4, 5]\n"
          ]
        }
      ]
    },
    {
      "cell_type": "code",
      "source": [
        "#Write a code to append the number 10 to the list [1, 2, 3, 4].\n",
        "list = [1,2,3,4]\n",
        "list.append(10)\n",
        "print(list)"
      ],
      "metadata": {
        "colab": {
          "base_uri": "https://localhost:8080/"
        },
        "id": "SYVCdcn8sNgb",
        "outputId": "1eeb34dc-5993-4b2b-86f2-48b611249d15"
      },
      "execution_count": 21,
      "outputs": [
        {
          "output_type": "stream",
          "name": "stdout",
          "text": [
            "[1, 2, 3, 4, 10]\n"
          ]
        }
      ]
    },
    {
      "cell_type": "code",
      "source": [
        "#Write a code to remove the number 3 from the list [1, 2, 3, 4, 5].\n",
        "list = [1, 2, 3, 4, 5]\n",
        "list.remove(3)\n",
        "print(list)"
      ],
      "metadata": {
        "colab": {
          "base_uri": "https://localhost:8080/"
        },
        "id": "0R-XzBzzsN0Y",
        "outputId": "9c1f9c90-42fd-44bc-95fd-88f95e98dc53"
      },
      "execution_count": 22,
      "outputs": [
        {
          "output_type": "stream",
          "name": "stdout",
          "text": [
            "[1, 2, 4, 5]\n"
          ]
        }
      ]
    },
    {
      "cell_type": "code",
      "source": [
        "#Write a code to access the second element in the list ['a', 'b', 'c', 'd'].\n",
        "list = ['a', 'b', 'c', 'd']\n",
        "list[1]"
      ],
      "metadata": {
        "colab": {
          "base_uri": "https://localhost:8080/",
          "height": 36
        },
        "id": "1WCFUUlJuce-",
        "outputId": "bc611ad8-0dbc-4ddc-abf4-e88885872ce7"
      },
      "execution_count": 23,
      "outputs": [
        {
          "output_type": "execute_result",
          "data": {
            "text/plain": [
              "'b'"
            ],
            "application/vnd.google.colaboratory.intrinsic+json": {
              "type": "string"
            }
          },
          "metadata": {},
          "execution_count": 23
        }
      ]
    },
    {
      "cell_type": "code",
      "source": [
        "#Write a code to reverse the list [10, 20, 30, 40, 50].\n",
        "list = [10, 20, 30, 40, 50]\n",
        "list[::-1]"
      ],
      "metadata": {
        "colab": {
          "base_uri": "https://localhost:8080/"
        },
        "id": "bNMf4NWqucsa",
        "outputId": "17a87f65-1179-407c-f9cb-9a486f749c61"
      },
      "execution_count": 24,
      "outputs": [
        {
          "output_type": "execute_result",
          "data": {
            "text/plain": [
              "[50, 40, 30, 20, 10]"
            ]
          },
          "metadata": {},
          "execution_count": 24
        }
      ]
    },
    {
      "cell_type": "code",
      "source": [
        "#Write a code to create a tuple with the elements 100, 200, 300 and print it.\n",
        "tuple = (100,200,300)\n",
        "print(tuple)"
      ],
      "metadata": {
        "colab": {
          "base_uri": "https://localhost:8080/"
        },
        "id": "Wq4TdKSXvVyM",
        "outputId": "fe88ced3-8dc7-4a77-ff35-45161b330685"
      },
      "execution_count": 26,
      "outputs": [
        {
          "output_type": "stream",
          "name": "stdout",
          "text": [
            "(100, 200, 300)\n"
          ]
        }
      ]
    },
    {
      "cell_type": "code",
      "source": [
        "#Write a code to access the second-to-last element of the tuple ('red', 'green', 'blue', 'yellow').\n",
        "tuple = ('red', 'green', 'blue', 'yellow')\n",
        "tuple[-2]"
      ],
      "metadata": {
        "colab": {
          "base_uri": "https://localhost:8080/",
          "height": 36
        },
        "id": "KT4-D0wAvWBg",
        "outputId": "28491995-a209-4cd9-8598-22a62e93e477"
      },
      "execution_count": 25,
      "outputs": [
        {
          "output_type": "execute_result",
          "data": {
            "text/plain": [
              "'blue'"
            ],
            "application/vnd.google.colaboratory.intrinsic+json": {
              "type": "string"
            }
          },
          "metadata": {},
          "execution_count": 25
        }
      ]
    },
    {
      "cell_type": "code",
      "source": [
        "#Write a code to find the minimum number in the tuple (10, 20, 5, 15).\n",
        "tuple = (10, 20, 5, 15)\n",
        "min(tuple)"
      ],
      "metadata": {
        "colab": {
          "base_uri": "https://localhost:8080/"
        },
        "id": "k4gNwiHSvv7k",
        "outputId": "1edd4252-dbdf-45cf-dbbb-f47b9a84ed8e"
      },
      "execution_count": 27,
      "outputs": [
        {
          "output_type": "execute_result",
          "data": {
            "text/plain": [
              "5"
            ]
          },
          "metadata": {},
          "execution_count": 27
        }
      ]
    },
    {
      "cell_type": "code",
      "source": [
        "#Write a code to find the index of the element \"cat\" in the tuple ('dog', 'cat', 'rabbit').\n",
        "tuple = ('dog', 'cat', 'rabbit')\n",
        "tuple.index(\"cat\")"
      ],
      "metadata": {
        "colab": {
          "base_uri": "https://localhost:8080/"
        },
        "id": "l6WxJMswvv_F",
        "outputId": "65e217b1-ba81-4364-cb75-a93e65e9bdf4"
      },
      "execution_count": 29,
      "outputs": [
        {
          "output_type": "execute_result",
          "data": {
            "text/plain": [
              "1"
            ]
          },
          "metadata": {},
          "execution_count": 29
        }
      ]
    },
    {
      "cell_type": "code",
      "source": [
        "#Write a code to create a tuple containing three different fruits and check if \"kiwi\" is in it.\n",
        "tuple = (\"Apple\", \"Kiwi\", \"Mango\")\n",
        "\"Kiwi\" in tuple"
      ],
      "metadata": {
        "colab": {
          "base_uri": "https://localhost:8080/"
        },
        "id": "SrE9oacjvwBu",
        "outputId": "6bb15b96-4b5e-4156-d407-22aa242b13e6"
      },
      "execution_count": 30,
      "outputs": [
        {
          "output_type": "execute_result",
          "data": {
            "text/plain": [
              "True"
            ]
          },
          "metadata": {},
          "execution_count": 30
        }
      ]
    },
    {
      "cell_type": "code",
      "source": [
        "#Write a code to create a set with the elements 'a', 'b', 'c' and print it.\n",
        "set = {\"a\", \"b\", \"c\"}\n",
        "print(set)"
      ],
      "metadata": {
        "id": "kdjOR9L8vwES"
      },
      "execution_count": null,
      "outputs": []
    },
    {
      "cell_type": "code",
      "source": [
        "#Write a code to clear all elements from the set {1, 2, 3, 4, 5}.\n",
        "set = {1, 2, 3, 4, 5}\n",
        "set.clear()\n",
        "print(set)"
      ],
      "metadata": {
        "colab": {
          "base_uri": "https://localhost:8080/"
        },
        "id": "ilJU_ZhFvwG7",
        "outputId": "1d222afe-2c00-42ce-bd5c-44176ac2b1a7"
      },
      "execution_count": 31,
      "outputs": [
        {
          "output_type": "stream",
          "name": "stdout",
          "text": [
            "set()\n"
          ]
        }
      ]
    },
    {
      "cell_type": "code",
      "source": [
        "#Write a code to remove the element 4 from the set {1, 2, 3, 4}.\n",
        "set0 = {1, 2, 3, 4}\n",
        "set0.remove(4)\n",
        "print(set0)"
      ],
      "metadata": {
        "colab": {
          "base_uri": "https://localhost:8080/"
        },
        "id": "Q1-3y1q1yznn",
        "outputId": "9c239dab-6895-4f4b-fe85-dab51aa57d75"
      },
      "execution_count": 59,
      "outputs": [
        {
          "output_type": "stream",
          "name": "stdout",
          "text": [
            "{1, 2, 3}\n"
          ]
        }
      ]
    },
    {
      "cell_type": "code",
      "source": [
        "#Write a code to find the union of two sets {1, 2, 3} and {3, 4, 5}.\n",
        "set1 = {1, 2, 3}\n",
        "set2 = {3, 4, 5}\n",
        "print(set1 | set2)"
      ],
      "metadata": {
        "colab": {
          "base_uri": "https://localhost:8080/"
        },
        "id": "lYfJqUvByzqo",
        "outputId": "c301d775-e760-41c9-d6e8-1c2860a0b76a"
      },
      "execution_count": 33,
      "outputs": [
        {
          "output_type": "stream",
          "name": "stdout",
          "text": [
            "{1, 2, 3, 4, 5}\n"
          ]
        }
      ]
    },
    {
      "cell_type": "code",
      "source": [
        "#Write a code to find the intersection of two sets {1, 2, 3} and {2, 3, 4}.\n",
        "set1 = {1, 2, 3}\n",
        "set2 = {2, 3, 4}\n",
        "print(set1 & set2)"
      ],
      "metadata": {
        "colab": {
          "base_uri": "https://localhost:8080/"
        },
        "id": "jLCFIgKoyztc",
        "outputId": "0ac857f4-b36f-49dc-b008-c78eec7b35aa"
      },
      "execution_count": 34,
      "outputs": [
        {
          "output_type": "stream",
          "name": "stdout",
          "text": [
            "{2, 3}\n"
          ]
        }
      ]
    },
    {
      "cell_type": "code",
      "source": [
        "#Write a code to create a dictionary with the keys \"name\", \"age\", and \"city\", and print it.\n",
        "dict = {\"Name\":\"Vaidehi\", \"Age\":21, \"City\":\"Badlapur\"}\n",
        "print(dict)"
      ],
      "metadata": {
        "colab": {
          "base_uri": "https://localhost:8080/"
        },
        "id": "3sPbjXEWyzxu",
        "outputId": "5f4f7fb4-40a1-4a18-e1e6-2450ecfa2bd1"
      },
      "execution_count": 35,
      "outputs": [
        {
          "output_type": "stream",
          "name": "stdout",
          "text": [
            "{'Name': 'Vaidehi', 'Age': 21, 'City': 'Badlapur'}\n"
          ]
        }
      ]
    },
    {
      "cell_type": "code",
      "source": [
        "#Write a code to add a new key-value pair \"country\": \"USA\" to the dictionary {'name': 'John', 'age': 25}.\n",
        "dict = {\"name\": \"John\", \"age\": 25}\n",
        "dict[\"country\"] = \"USA\"\n",
        "print(dict)"
      ],
      "metadata": {
        "colab": {
          "base_uri": "https://localhost:8080/"
        },
        "id": "LfmS2Ohqyz3g",
        "outputId": "695b4594-4d00-4cc9-a507-d582b4a7b9b7"
      },
      "execution_count": 36,
      "outputs": [
        {
          "output_type": "stream",
          "name": "stdout",
          "text": [
            "{'name': 'John', 'age': 25, 'country': 'USA'}\n"
          ]
        }
      ]
    },
    {
      "cell_type": "code",
      "source": [
        "#Write a code to access the value associated with the key \"name\" in the dictionary {'name': 'Alice', 'age': 30}.\n",
        "dict = {'name': 'Alice', 'age': 30}\n",
        "dict[\"name\"]"
      ],
      "metadata": {
        "colab": {
          "base_uri": "https://localhost:8080/",
          "height": 36
        },
        "id": "ib3pXsAOy0EL",
        "outputId": "30655fa6-2c3a-4452-d010-1620ce546110"
      },
      "execution_count": 37,
      "outputs": [
        {
          "output_type": "execute_result",
          "data": {
            "text/plain": [
              "'Alice'"
            ],
            "application/vnd.google.colaboratory.intrinsic+json": {
              "type": "string"
            }
          },
          "metadata": {},
          "execution_count": 37
        }
      ]
    },
    {
      "cell_type": "code",
      "source": [
        "#Write a code to remove the key \"age\" from the dictionary {'name': 'Bob', 'age': 22, 'city': 'New York'}.\n",
        "dict = {\"name\": \"Bob\", \"age\": 22, \"city\": \"New York\"}\n",
        "dict.pop(\"age\")\n",
        "print(dict)"
      ],
      "metadata": {
        "colab": {
          "base_uri": "https://localhost:8080/"
        },
        "id": "3K0nZ4DI10kg",
        "outputId": "b80d08b5-dbc3-4145-ea51-5fbdad177ba9"
      },
      "execution_count": 38,
      "outputs": [
        {
          "output_type": "stream",
          "name": "stdout",
          "text": [
            "{'name': 'Bob', 'city': 'New York'}\n"
          ]
        }
      ]
    },
    {
      "cell_type": "code",
      "source": [
        "#Write a code to check if the key \"city\" exists in the dictionary {'name': 'Alice', 'city': 'Paris'}.\n",
        "dict = {\"name\": \"Alice\", \"city\": \"Paris\"}\n",
        "\"city\" in dict"
      ],
      "metadata": {
        "colab": {
          "base_uri": "https://localhost:8080/"
        },
        "id": "twY0b5OT10p4",
        "outputId": "0c4d7844-e1b3-434b-8b42-58a87772a6f8"
      },
      "execution_count": 39,
      "outputs": [
        {
          "output_type": "execute_result",
          "data": {
            "text/plain": [
              "True"
            ]
          },
          "metadata": {},
          "execution_count": 39
        }
      ]
    },
    {
      "cell_type": "code",
      "source": [
        "#Write a code to create a list, a tuple, and a dictionary, and print them all.\n",
        "list = [1,2,3,4]\n",
        "print(\"List is :\",list)\n",
        "tuple = (1,2,3,4)\n",
        "print(\"Tuple is :\",tuple)\n",
        "dict = {\"Name\":\"Vaidehi\", \"Age\":21}\n",
        "print(\"Dictionary is :\",dict)"
      ],
      "metadata": {
        "colab": {
          "base_uri": "https://localhost:8080/"
        },
        "id": "d-CB0YLt1074",
        "outputId": "e1bccc2e-35bf-4cb3-ee06-bf00c42f9922"
      },
      "execution_count": 42,
      "outputs": [
        {
          "output_type": "stream",
          "name": "stdout",
          "text": [
            "List is : [1, 2, 3, 4]\n",
            "Tuple is : (1, 2, 3, 4)\n",
            "Dictionary is : {'Name': 'Vaidehi', 'Age': 21}\n"
          ]
        }
      ]
    },
    {
      "cell_type": "code",
      "source": [
        "#Write a code to create a list of 5 random numbers between 1 and 100, sort it in ascending order, and print the result.(replaced)\n",
        "import random\n",
        "list = [random.randint(1,100) for i in range(5)]\n",
        "list.sort()\n",
        "print(list)"
      ],
      "metadata": {
        "colab": {
          "base_uri": "https://localhost:8080/"
        },
        "id": "BtB4NmVs4MC7",
        "outputId": "904396bb-861c-43da-de42-86366011b694"
      },
      "execution_count": 46,
      "outputs": [
        {
          "output_type": "stream",
          "name": "stdout",
          "text": [
            "[13, 38, 49, 55, 60]\n"
          ]
        }
      ]
    },
    {
      "cell_type": "code",
      "source": [
        "#Write a code to create a list with strings and print the element at the third index.\n",
        "my_list = [\"apple\", \"banana\", \"cherry\", \"date\", \"strawberry\"]\n",
        "print(my_list[3])"
      ],
      "metadata": {
        "colab": {
          "base_uri": "https://localhost:8080/"
        },
        "id": "3LnnFkVZ4MWj",
        "outputId": "57282524-f0b4-4c41-b4f2-042978097184"
      },
      "execution_count": 47,
      "outputs": [
        {
          "output_type": "stream",
          "name": "stdout",
          "text": [
            "date\n"
          ]
        }
      ]
    },
    {
      "cell_type": "code",
      "source": [
        "# Write a code to combine two dictionaries into one and print the result.\n",
        "dict1 = {\"name\" : \"Vaidehi\", \"age\" : 21}\n",
        "dict2 = {\"course\" : \"data analytics\", \"duration\" : 6}\n",
        "dict1.update(dict2)\n",
        "print(dict1)"
      ],
      "metadata": {
        "colab": {
          "base_uri": "https://localhost:8080/"
        },
        "id": "TzddlyDq5k2J",
        "outputId": "7fde7c31-83b4-47f1-922d-a65bb674c862"
      },
      "execution_count": 48,
      "outputs": [
        {
          "output_type": "stream",
          "name": "stdout",
          "text": [
            "{'name': 'Vaidehi', 'age': 21, 'course': 'data analytics', 'duration': 6}\n"
          ]
        }
      ]
    },
    {
      "cell_type": "code",
      "source": [
        "#Write a code to convert a list of strings into a set.\n",
        "string_list = [\"apple\", \"banana\", \"cherry\", \"apple\"]\n",
        "string_set = set(string_list)\n",
        "print(string_set)"
      ],
      "metadata": {
        "colab": {
          "base_uri": "https://localhost:8080/"
        },
        "id": "Cx_NDYsF64lg",
        "outputId": "45a5e2db-f049-4e7e-c844-7ea1e2cbaa7d"
      },
      "execution_count": 62,
      "outputs": [
        {
          "output_type": "stream",
          "name": "stdout",
          "text": [
            "{'cherry', 'banana', 'apple'}\n"
          ]
        }
      ]
    }
  ]
}